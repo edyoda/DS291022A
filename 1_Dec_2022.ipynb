{
  "nbformat": 4,
  "nbformat_minor": 0,
  "metadata": {
    "colab": {
      "provenance": []
    },
    "kernelspec": {
      "name": "python3",
      "display_name": "Python 3"
    },
    "language_info": {
      "name": "python"
    }
  },
  "cells": [
    {
      "cell_type": "code",
      "execution_count": null,
      "metadata": {
        "id": "-97r6gUNADBi"
      },
      "outputs": [],
      "source": [
        "import re\n"
      ]
    },
    {
      "cell_type": "code",
      "source": [
        "## Function Programming (map, lambda , filter)"
      ],
      "metadata": {
        "id": "1lBtzclCAf_N"
      },
      "execution_count": null,
      "outputs": []
    },
    {
      "cell_type": "code",
      "source": [
        "def splitF(x):\n",
        "  return x.split('-')"
      ],
      "metadata": {
        "id": "EGTMBdt5AgCy"
      },
      "execution_count": null,
      "outputs": []
    },
    {
      "cell_type": "code",
      "source": [
        "splitF('Uttam-Grade')"
      ],
      "metadata": {
        "colab": {
          "base_uri": "https://localhost:8080/"
        },
        "id": "uJ9zEabrAgGS",
        "outputId": "9fab86de-23c3-4851-8c87-9df1ba42133b"
      },
      "execution_count": null,
      "outputs": [
        {
          "output_type": "execute_result",
          "data": {
            "text/plain": [
              "['Uttam', 'Grade']"
            ]
          },
          "metadata": {},
          "execution_count": 4
        }
      ]
    },
    {
      "cell_type": "code",
      "source": [
        "from posixpath import split\n",
        "a = ['Uttam-Grade', 'Venom-the-alian', 'anand-solanki', 'deepti-kuch']\n",
        "list(map(splitF, a))"
      ],
      "metadata": {
        "colab": {
          "base_uri": "https://localhost:8080/"
        },
        "id": "xvLt1P9AAgIc",
        "outputId": "1ad09a1d-e3bd-4574-d3a1-27de5d7ddd24"
      },
      "execution_count": null,
      "outputs": [
        {
          "output_type": "execute_result",
          "data": {
            "text/plain": [
              "[['Uttam', 'Grade'],\n",
              " ['Venom', 'the', 'alian'],\n",
              " ['anand', 'solanki'],\n",
              " ['deepti', 'kuch']]"
            ]
          },
          "metadata": {},
          "execution_count": 6
        }
      ]
    },
    {
      "cell_type": "code",
      "source": [
        "### lambda ( function - def)\n",
        "lambda x: x.split('-')"
      ],
      "metadata": {
        "id": "31cP6znSAgKn"
      },
      "execution_count": null,
      "outputs": []
    },
    {
      "cell_type": "code",
      "source": [
        "list(map(lambda x: x.split('-'), a))"
      ],
      "metadata": {
        "colab": {
          "base_uri": "https://localhost:8080/"
        },
        "id": "2rHy7hPrAgNG",
        "outputId": "d17ac4e8-0cc5-4966-9ab1-7d61b8aca431"
      },
      "execution_count": null,
      "outputs": [
        {
          "output_type": "execute_result",
          "data": {
            "text/plain": [
              "[['Uttam', 'Grade'],\n",
              " ['Venom', 'the', 'alian'],\n",
              " ['anand', 'solanki'],\n",
              " ['deepti', 'kuch']]"
            ]
          },
          "metadata": {},
          "execution_count": 7
        }
      ]
    },
    {
      "cell_type": "code",
      "source": [
        "### Filter ### (it will filter the values)\n",
        "\n",
        "def filter_values(x):\n",
        "\n",
        "  l = ['a', 'e', 'i', 'o', 'u']\n",
        "  \n",
        "  if x in l:\n",
        "    return True\n",
        "  else:\n",
        "    return False"
      ],
      "metadata": {
        "id": "GTNttrJdAgQc"
      },
      "execution_count": null,
      "outputs": []
    },
    {
      "cell_type": "code",
      "source": [
        "b = ['U', 'u', 'a','g', 'f', 'h' , 'i', 'j', 'k' , 'z']"
      ],
      "metadata": {
        "id": "un1NlUErFSiN"
      },
      "execution_count": null,
      "outputs": []
    },
    {
      "cell_type": "code",
      "source": [
        "list(map(filter_values, b))"
      ],
      "metadata": {
        "colab": {
          "base_uri": "https://localhost:8080/"
        },
        "id": "UrggcbgYFnGo",
        "outputId": "377c89a4-b0df-43c8-f53e-a139ad40ddb0"
      },
      "execution_count": null,
      "outputs": [
        {
          "output_type": "execute_result",
          "data": {
            "text/plain": [
              "[False, True, True, False, False, False, True, False, False, False]"
            ]
          },
          "metadata": {},
          "execution_count": 13
        }
      ]
    },
    {
      "cell_type": "code",
      "source": [
        "list(filter(filter_values, b))"
      ],
      "metadata": {
        "colab": {
          "base_uri": "https://localhost:8080/"
        },
        "id": "Dn7tox0tFnKH",
        "outputId": "36a9bae5-aab5-4d30-e8ba-804a96ee013d"
      },
      "execution_count": null,
      "outputs": [
        {
          "output_type": "execute_result",
          "data": {
            "text/plain": [
              "['u', 'a', 'i']"
            ]
          },
          "metadata": {},
          "execution_count": 15
        }
      ]
    },
    {
      "cell_type": "code",
      "source": [
        "'a' in 'Uttam'"
      ],
      "metadata": {
        "colab": {
          "base_uri": "https://localhost:8080/"
        },
        "id": "SPIX60U1AgT3",
        "outputId": "50b16df3-4b66-4afa-cde6-9588a9dfecb4"
      },
      "execution_count": null,
      "outputs": [
        {
          "output_type": "execute_result",
          "data": {
            "text/plain": [
              "True"
            ]
          },
          "metadata": {},
          "execution_count": 8
        }
      ]
    },
    {
      "cell_type": "code",
      "source": [
        "def filter_values(x):\n",
        "    l=[\"a\",\"e\",\"i\",\"o\",\"u\"]\n",
        "    if x in l:\n",
        "        return True\n",
        "    else:\n",
        "        return False\n"
      ],
      "metadata": {
        "id": "MIpSMi4RAgXn"
      },
      "execution_count": null,
      "outputs": []
    },
    {
      "cell_type": "code",
      "source": [
        "a=[\"a\",\"b\",\"c\",\"d\",\"e\"]\n"
      ],
      "metadata": {
        "id": "2QYepFbGAgaT"
      },
      "execution_count": null,
      "outputs": []
    },
    {
      "cell_type": "code",
      "source": [
        "list(filter(filter_values,a))\n"
      ],
      "metadata": {
        "colab": {
          "base_uri": "https://localhost:8080/"
        },
        "id": "ZGMss_epAgdf",
        "outputId": "493dd279-2301-40f2-f4c7-ff7befd183f1"
      },
      "execution_count": null,
      "outputs": [
        {
          "output_type": "execute_result",
          "data": {
            "text/plain": [
              "['a', 'e']"
            ]
          },
          "metadata": {},
          "execution_count": 24
        }
      ]
    },
    {
      "cell_type": "code",
      "source": [
        "############### List Comprehention ##########\n",
        "b = [i for i in range(1,10) if i % 2==0]"
      ],
      "metadata": {
        "id": "gluDbsVrAggr"
      },
      "execution_count": null,
      "outputs": []
    },
    {
      "cell_type": "code",
      "source": [
        "b"
      ],
      "metadata": {
        "colab": {
          "base_uri": "https://localhost:8080/"
        },
        "id": "HJW2kYNVQsV3",
        "outputId": "3e8913a1-f64c-4aca-95c3-c82df143dfaf"
      },
      "execution_count": null,
      "outputs": [
        {
          "output_type": "execute_result",
          "data": {
            "text/plain": [
              "[2, 4, 6, 8]"
            ]
          },
          "metadata": {},
          "execution_count": 40
        }
      ]
    },
    {
      "cell_type": "code",
      "source": [
        "[i if i % 2==0 for i in range(1,10)]"
      ],
      "metadata": {
        "colab": {
          "base_uri": "https://localhost:8080/",
          "height": 134
        },
        "id": "rrfGC0f1Ntcs",
        "outputId": "0faab55e-dd72-4ca0-c85d-daeee4a4cbaa"
      },
      "execution_count": null,
      "outputs": [
        {
          "output_type": "error",
          "ename": "SyntaxError",
          "evalue": "ignored",
          "traceback": [
            "\u001b[0;36m  File \u001b[0;32m\"<ipython-input-36-0dac934046e2>\"\u001b[0;36m, line \u001b[0;32m1\u001b[0m\n\u001b[0;31m    [i if i % 2==0 for i in range(1,10)]\u001b[0m\n\u001b[0m                   ^\u001b[0m\n\u001b[0;31mSyntaxError\u001b[0m\u001b[0;31m:\u001b[0m invalid syntax\n"
          ]
        }
      ]
    },
    {
      "cell_type": "code",
      "source": [
        "a = []\n",
        "for i in range(1,10):\n",
        "  if i % 2 ==0:\n",
        "\n",
        "    a.append(i)"
      ],
      "metadata": {
        "id": "9Ev5Ymr3JwFk"
      },
      "execution_count": null,
      "outputs": []
    },
    {
      "cell_type": "code",
      "source": [
        "a"
      ],
      "metadata": {
        "colab": {
          "base_uri": "https://localhost:8080/"
        },
        "id": "BwP1biF6JwIQ",
        "outputId": "2777acfe-5730-42e7-9d15-658bc876bf64"
      },
      "execution_count": null,
      "outputs": [
        {
          "output_type": "execute_result",
          "data": {
            "text/plain": [
              "[2, 4, 6, 8]"
            ]
          },
          "metadata": {},
          "execution_count": 30
        }
      ]
    },
    {
      "cell_type": "code",
      "source": [
        "n = 12\n",
        "[(n,'*',i,'=',n*i) for i in range(1,11)]\n"
      ],
      "metadata": {
        "colab": {
          "base_uri": "https://localhost:8080/"
        },
        "id": "bpF4Ibn-JwK-",
        "outputId": "f61406f2-e247-4329-b118-b794b0250e9a"
      },
      "execution_count": null,
      "outputs": [
        {
          "output_type": "execute_result",
          "data": {
            "text/plain": [
              "[(12, '*', 1, '=', 12),\n",
              " (12, '*', 2, '=', 24),\n",
              " (12, '*', 3, '=', 36),\n",
              " (12, '*', 4, '=', 48),\n",
              " (12, '*', 5, '=', 60),\n",
              " (12, '*', 6, '=', 72),\n",
              " (12, '*', 7, '=', 84),\n",
              " (12, '*', 8, '=', 96),\n",
              " (12, '*', 9, '=', 108),\n",
              " (12, '*', 10, '=', 120)]"
            ]
          },
          "metadata": {},
          "execution_count": 38
        }
      ]
    },
    {
      "cell_type": "code",
      "source": [
        "############## game of functions ############\n",
        "list1 = input(\"enter the numbers: \")\n",
        "#list2 = []\n",
        "def game_of_functions(x):\n",
        "  a = 0\n",
        "  [list1 for i in list1]\n",
        "    #list2.append(int(i))   \n",
        "  return [int(i)+a for i in list1]\n",
        "    \n",
        "\n",
        "game_of_functions(list1)\n"
      ],
      "metadata": {
        "colab": {
          "base_uri": "https://localhost:8080/"
        },
        "id": "WTREPqYwJwNz",
        "outputId": "99a716da-1327-423d-c21b-4fd24dcbe7f0"
      },
      "execution_count": null,
      "outputs": [
        {
          "name": "stdout",
          "output_type": "stream",
          "text": [
            "enter the numbers: 123456789\n"
          ]
        },
        {
          "output_type": "execute_result",
          "data": {
            "text/plain": [
              "[1, 2, 3, 4, 5, 6, 7, 8, 9]"
            ]
          },
          "metadata": {},
          "execution_count": 43
        }
      ]
    },
    {
      "cell_type": "code",
      "source": [
        "list1 = input(\"enter the numbers: \")\n",
        "\n",
        "def game_of_functions(x):\n",
        "  a = 0\n",
        "  a = [int(i)+a for i in list1]\n",
        "  return a\n",
        "       \n",
        "  # for i in list1 :\n",
        "  #   a = int(i) + a\n",
        "\n",
        "  # print(a)\n",
        "\n",
        "game_of_functions(list1)\n"
      ],
      "metadata": {
        "colab": {
          "base_uri": "https://localhost:8080/"
        },
        "id": "sCem07NEJwQZ",
        "outputId": "f9ea6050-f84d-4bf9-ea42-eeab37db775f"
      },
      "execution_count": null,
      "outputs": [
        {
          "name": "stdout",
          "output_type": "stream",
          "text": [
            "enter the numbers: 12345\n"
          ]
        },
        {
          "output_type": "execute_result",
          "data": {
            "text/plain": [
              "[1, 2, 3, 4, 5]"
            ]
          },
          "metadata": {},
          "execution_count": 47
        }
      ]
    },
    {
      "cell_type": "code",
      "source": [
        "############ Seek(it willl set the current file location) \n",
        "####Tell ###"
      ],
      "metadata": {
        "id": "dJ2XoeSZJwSz"
      },
      "execution_count": null,
      "outputs": []
    },
    {
      "cell_type": "code",
      "source": [
        "f = open('/content/sample3.txt', 'r')\n",
        "print(f.readline())\n",
        "print(f.tell())"
      ],
      "metadata": {
        "colab": {
          "base_uri": "https://localhost:8080/"
        },
        "id": "XE9XD4h4JwVe",
        "outputId": "ca34fdf3-bd0b-4255-b98e-6c0af1028387"
      },
      "execution_count": null,
      "outputs": [
        {
          "output_type": "stream",
          "name": "stdout",
          "text": [
            "Quod equidem non reprehendo;\n",
            "\n",
            "29\n"
          ]
        }
      ]
    },
    {
      "cell_type": "code",
      "source": [
        "f = open('/content/sample3.txt', 'r')\n",
        "print(f.seek(5))\n",
        "print(f.readline())\n"
      ],
      "metadata": {
        "colab": {
          "base_uri": "https://localhost:8080/"
        },
        "id": "BMrFTLryJwXq",
        "outputId": "1690b4aa-b9a9-4c33-fb87-a3ed3218ff0f"
      },
      "execution_count": null,
      "outputs": [
        {
          "output_type": "stream",
          "name": "stdout",
          "text": [
            "5\n",
            "equidem non reprehendo;\n",
            "\n"
          ]
        }
      ]
    },
    {
      "cell_type": "code",
      "source": [],
      "metadata": {
        "id": "5CRT7ADBJwbS"
      },
      "execution_count": null,
      "outputs": []
    },
    {
      "cell_type": "code",
      "source": [],
      "metadata": {
        "id": "4H5_hhOZADrl"
      },
      "execution_count": null,
      "outputs": []
    },
    {
      "cell_type": "code",
      "source": [],
      "metadata": {
        "id": "acGI69f3ADvQ"
      },
      "execution_count": null,
      "outputs": []
    },
    {
      "cell_type": "code",
      "source": [
        "########### write a python program to perform two if condition in list comprehention\n",
        "# check the values is divisible by 2 and 5 use else condtion as well"
      ],
      "metadata": {
        "id": "BiFQqOKQADzc"
      },
      "execution_count": null,
      "outputs": []
    },
    {
      "cell_type": "code",
      "source": [
        "## Transpose a matrix using a list comprehension\n",
        "m = [[1,2], [3,4], [5,6], [7,8]]\n",
        "\n",
        "# output [[1,3,5,7], [2,3,6,8]]"
      ],
      "metadata": {
        "id": "CuRC9XUFAD2Q"
      },
      "execution_count": null,
      "outputs": []
    },
    {
      "cell_type": "code",
      "source": [],
      "metadata": {
        "id": "7JWD-sm5AD71"
      },
      "execution_count": null,
      "outputs": []
    },
    {
      "cell_type": "code",
      "source": [],
      "metadata": {
        "id": "X9dFYzlAMtAN"
      },
      "execution_count": null,
      "outputs": []
    },
    {
      "cell_type": "markdown",
      "source": [
        "## 2_December_2022"
      ],
      "metadata": {
        "id": "CMyGODj8MuHt"
      }
    },
    {
      "cell_type": "code",
      "source": [
        "a = 10\n",
        "b = 10\n",
        "\n",
        "if a > b: \n",
        "  print(a) \n",
        "\n",
        "elif a == b:\n",
        "  print('Equal')\n",
        "\n",
        "elif a == 10:\n",
        "  print('10')\n",
        "\n",
        "else: \n",
        "  print(b)\n"
      ],
      "metadata": {
        "colab": {
          "base_uri": "https://localhost:8080/"
        },
        "id": "YqhJfVPfMtDm",
        "outputId": "6c9d6603-509c-4a0c-c006-18e06d34a9f6"
      },
      "execution_count": null,
      "outputs": [
        {
          "output_type": "stream",
          "name": "stdout",
          "text": [
            "Equal\n"
          ]
        }
      ]
    },
    {
      "cell_type": "code",
      "source": [
        "def xyz(n):\n",
        "  if n in range(0,10):\n",
        "    return True\n",
        "  else:\n",
        "    return False\n",
        "\n",
        "xyz(10)"
      ],
      "metadata": {
        "colab": {
          "base_uri": "https://localhost:8080/"
        },
        "id": "vN2VZDqlMtGf",
        "outputId": "f742f96c-f117-4cff-c65f-a0594a2decec"
      },
      "execution_count": null,
      "outputs": [
        {
          "output_type": "execute_result",
          "data": {
            "text/plain": [
              "False"
            ]
          },
          "metadata": {},
          "execution_count": 13
        }
      ]
    },
    {
      "cell_type": "code",
      "source": [
        "# Write a program to calculate the sum of series up to n term. \n",
        "# For example, if n =5 the series will become 2 + 22 + 222 + 2222 + 22222 = 24690\n",
        "\n",
        "# a=int(input())\n",
        "# b=0\n",
        "# c =0\n",
        "# while a>=1:\n",
        "#     b = 2+(b*10)\n",
        "#     c+=b\n",
        "#     a-=1\n",
        "# print(c)\n"
      ],
      "metadata": {
        "id": "nF56SfGWMtJF"
      },
      "execution_count": null,
      "outputs": []
    },
    {
      "cell_type": "code",
      "source": [],
      "metadata": {
        "id": "BSuVkrZnMtMQ"
      },
      "execution_count": null,
      "outputs": []
    },
    {
      "cell_type": "code",
      "source": [],
      "metadata": {
        "id": "R2rv2owzMtWn"
      },
      "execution_count": null,
      "outputs": []
    },
    {
      "cell_type": "code",
      "source": [],
      "metadata": {
        "id": "Ba8Mo4tnMtZH"
      },
      "execution_count": null,
      "outputs": []
    },
    {
      "cell_type": "code",
      "source": [],
      "metadata": {
        "id": "-NBAbzcyMtc6"
      },
      "execution_count": null,
      "outputs": []
    },
    {
      "cell_type": "code",
      "source": [],
      "metadata": {
        "id": "60BxQbK8L-vM"
      },
      "execution_count": null,
      "outputs": []
    },
    {
      "cell_type": "code",
      "source": [],
      "metadata": {
        "id": "07pOw-K6L-yF"
      },
      "execution_count": null,
      "outputs": []
    },
    {
      "cell_type": "code",
      "source": [],
      "metadata": {
        "id": "jflpbXJTL-08"
      },
      "execution_count": null,
      "outputs": []
    },
    {
      "cell_type": "code",
      "source": [],
      "metadata": {
        "id": "uOcWnf3WAD_2"
      },
      "execution_count": null,
      "outputs": []
    }
  ]
}