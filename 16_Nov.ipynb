{
  "nbformat": 4,
  "nbformat_minor": 0,
  "metadata": {
    "colab": {
      "provenance": []
    },
    "kernelspec": {
      "name": "python3",
      "display_name": "Python 3"
    },
    "language_info": {
      "name": "python"
    }
  },
  "cells": [
    {
      "cell_type": "code",
      "execution_count": null,
      "metadata": {
        "id": "4RT-krlXwzBr"
      },
      "outputs": [],
      "source": [
        "a = {'a', 'b','c'}\n",
        "a.add('s')\n",
        "## Add values in set"
      ]
    },
    {
      "cell_type": "code",
      "source": [
        "a"
      ],
      "metadata": {
        "colab": {
          "base_uri": "https://localhost:8080/"
        },
        "id": "RG7UJfEixRei",
        "outputId": "19012968-5ade-4cf1-ce95-d0fa3b4df7f1"
      },
      "execution_count": null,
      "outputs": [
        {
          "output_type": "execute_result",
          "data": {
            "text/plain": [
              "{'a', 'b', 'c', 's'}"
            ]
          },
          "metadata": {},
          "execution_count": 2
        }
      ]
    },
    {
      "cell_type": "code",
      "source": [
        "b = 'Hello My name is Uttam'\n",
        "b.upper()"
      ],
      "metadata": {
        "colab": {
          "base_uri": "https://localhost:8080/",
          "height": 36
        },
        "id": "z7-FpaqcxRh3",
        "outputId": "743186ca-110a-49fb-a626-a8f1d8eb6982"
      },
      "execution_count": null,
      "outputs": [
        {
          "output_type": "execute_result",
          "data": {
            "text/plain": [
              "'HELLO MY NAME IS UTTAM'"
            ],
            "application/vnd.google.colaboratory.intrinsic+json": {
              "type": "string"
            }
          },
          "metadata": {},
          "execution_count": 3
        }
      ]
    },
    {
      "cell_type": "code",
      "source": [
        "b.split()"
      ],
      "metadata": {
        "colab": {
          "base_uri": "https://localhost:8080/"
        },
        "id": "cq07PvzUxRk7",
        "outputId": "5f585870-e10b-49fb-bbb4-01edf52d1321"
      },
      "execution_count": null,
      "outputs": [
        {
          "output_type": "execute_result",
          "data": {
            "text/plain": [
              "['Hello', 'My', 'name', 'is', 'Uttam']"
            ]
          },
          "metadata": {},
          "execution_count": 4
        }
      ]
    },
    {
      "cell_type": "code",
      "source": [
        "'-'.join(b)"
      ],
      "metadata": {
        "colab": {
          "base_uri": "https://localhost:8080/",
          "height": 36
        },
        "id": "Mk3Gz3GExRpR",
        "outputId": "a1739ed5-c747-4659-b349-143782f1a926"
      },
      "execution_count": null,
      "outputs": [
        {
          "output_type": "execute_result",
          "data": {
            "text/plain": [
              "'H-e-l-l-o- -M-y- -n-a-m-e- -i-s- -U-t-t-a-m'"
            ],
            "application/vnd.google.colaboratory.intrinsic+json": {
              "type": "string"
            }
          },
          "metadata": {},
          "execution_count": 5
        }
      ]
    },
    {
      "cell_type": "code",
      "source": [
        "c = 'Machine Learning'\n",
        "'#'.join(c)"
      ],
      "metadata": {
        "colab": {
          "base_uri": "https://localhost:8080/",
          "height": 36
        },
        "id": "fnYoftE_xRtb",
        "outputId": "9410ecd5-bd8a-4b95-9ae1-fa7284e92d98"
      },
      "execution_count": null,
      "outputs": [
        {
          "output_type": "execute_result",
          "data": {
            "text/plain": [
              "'M#a#c#h#i#n#e# #L#e#a#r#n#i#n#g'"
            ],
            "application/vnd.google.colaboratory.intrinsic+json": {
              "type": "string"
            }
          },
          "metadata": {},
          "execution_count": 6
        }
      ]
    },
    {
      "cell_type": "code",
      "source": [
        "b = b.split()"
      ],
      "metadata": {
        "id": "-bWrYNhpxRv5"
      },
      "execution_count": null,
      "outputs": []
    },
    {
      "cell_type": "code",
      "source": [
        "b"
      ],
      "metadata": {
        "colab": {
          "base_uri": "https://localhost:8080/"
        },
        "id": "dbJ0P9JwxRzA",
        "outputId": "df6ed00c-62e4-405e-c11f-938d8f8cde2a"
      },
      "execution_count": null,
      "outputs": [
        {
          "output_type": "execute_result",
          "data": {
            "text/plain": [
              "['Hello', 'My', 'name', 'is', 'Uttam']"
            ]
          },
          "metadata": {},
          "execution_count": 8
        }
      ]
    },
    {
      "cell_type": "code",
      "source": [
        "'-'.join(b)"
      ],
      "metadata": {
        "colab": {
          "base_uri": "https://localhost:8080/",
          "height": 36
        },
        "id": "9s9I3ysuzXh9",
        "outputId": "7bd20b48-4cf8-4914-8e88-3c1cca69143f"
      },
      "execution_count": null,
      "outputs": [
        {
          "output_type": "execute_result",
          "data": {
            "text/plain": [
              "'Hello-My-name-is-Uttam'"
            ],
            "application/vnd.google.colaboratory.intrinsic+json": {
              "type": "string"
            }
          },
          "metadata": {},
          "execution_count": 9
        }
      ]
    },
    {
      "cell_type": "code",
      "source": [
        "########################### JOIN FUNCTION for STRING ################\n",
        "a = 'Uttam'\n",
        "b = 'Grade'\n",
        "\n",
        "\n",
        "# a +'-'+ b + '-' + c......................"
      ],
      "metadata": {
        "colab": {
          "base_uri": "https://localhost:8080/",
          "height": 36
        },
        "id": "hS1uD9fezXlg",
        "outputId": "bc128074-1ce8-4ad1-9235-c4aa9a13d3cf"
      },
      "execution_count": null,
      "outputs": [
        {
          "output_type": "execute_result",
          "data": {
            "text/plain": [
              "'Uttam-Grade'"
            ],
            "application/vnd.google.colaboratory.intrinsic+json": {
              "type": "string"
            }
          },
          "metadata": {},
          "execution_count": 11
        }
      ]
    },
    {
      "cell_type": "code",
      "source": [
        "c = ['Uttam', 'Grade', 'My', 'Machine', 'Learning']\n",
        "c[0] + '-' + c[1] + '-' + c[2] + '-' + c[3]"
      ],
      "metadata": {
        "colab": {
          "base_uri": "https://localhost:8080/",
          "height": 36
        },
        "id": "wrNtWWDHznzu",
        "outputId": "1c52f32a-08cb-4e22-d64a-9211034bdb8d"
      },
      "execution_count": null,
      "outputs": [
        {
          "output_type": "execute_result",
          "data": {
            "text/plain": [
              "'Uttam-Grade-My-Machine'"
            ],
            "application/vnd.google.colaboratory.intrinsic+json": {
              "type": "string"
            }
          },
          "metadata": {},
          "execution_count": 14
        }
      ]
    },
    {
      "cell_type": "code",
      "source": [
        "'-'.join(c)"
      ],
      "metadata": {
        "colab": {
          "base_uri": "https://localhost:8080/",
          "height": 36
        },
        "id": "4h-Gc5Ajzn2t",
        "outputId": "5bdce464-1648-40ac-87ce-df4a9171924f"
      },
      "execution_count": null,
      "outputs": [
        {
          "output_type": "execute_result",
          "data": {
            "text/plain": [
              "'Uttam-Grade-My-Machine-Learning'"
            ],
            "application/vnd.google.colaboratory.intrinsic+json": {
              "type": "string"
            }
          },
          "metadata": {},
          "execution_count": 15
        }
      ]
    },
    {
      "cell_type": "code",
      "source": [
        "d = 'Welcome to Edyoda'\n",
        "d = d.replace('to', 'to the')"
      ],
      "metadata": {
        "id": "tXKEAnElzn5r"
      },
      "execution_count": null,
      "outputs": []
    },
    {
      "cell_type": "code",
      "source": [
        "d"
      ],
      "metadata": {
        "colab": {
          "base_uri": "https://localhost:8080/",
          "height": 36
        },
        "id": "1p_Z1hvRzn85",
        "outputId": "41a6ad7c-56a4-4670-8b97-3126b7177131"
      },
      "execution_count": null,
      "outputs": [
        {
          "output_type": "execute_result",
          "data": {
            "text/plain": [
              "'Welcome to the Edyoda'"
            ],
            "application/vnd.google.colaboratory.intrinsic+json": {
              "type": "string"
            }
          },
          "metadata": {},
          "execution_count": 19
        }
      ]
    },
    {
      "cell_type": "code",
      "source": [
        "len(d)"
      ],
      "metadata": {
        "colab": {
          "base_uri": "https://localhost:8080/"
        },
        "id": "qzzr7E81zoAi",
        "outputId": "7be0a836-20e0-4321-9438-77b0a5957c17"
      },
      "execution_count": null,
      "outputs": [
        {
          "output_type": "execute_result",
          "data": {
            "text/plain": [
              "21"
            ]
          },
          "metadata": {},
          "execution_count": 20
        }
      ]
    },
    {
      "cell_type": "code",
      "source": [
        "e = 'Hello Uttam How are you, are you a Data Scientist at somwhere. Uttam U'"
      ],
      "metadata": {
        "id": "Lakh0K1ZzoDb"
      },
      "execution_count": null,
      "outputs": []
    },
    {
      "cell_type": "code",
      "source": [
        "e.count('U')"
      ],
      "metadata": {
        "colab": {
          "base_uri": "https://localhost:8080/"
        },
        "id": "km7zUInBzoF3",
        "outputId": "95efaf43-f672-4493-fa38-4ceea6d1e351"
      },
      "execution_count": null,
      "outputs": [
        {
          "output_type": "execute_result",
          "data": {
            "text/plain": [
              "3"
            ]
          },
          "metadata": {},
          "execution_count": 34
        }
      ]
    },
    {
      "cell_type": "code",
      "source": [
        "############################# function of list ############\n",
        "a = ['a', 'b', [1,2,3], [4,5,6, [10,20,30]]]\n",
        "a[3][3][1]"
      ],
      "metadata": {
        "colab": {
          "base_uri": "https://localhost:8080/"
        },
        "id": "0cQ52SIOzoId",
        "outputId": "3fd95e8d-da73-4e22-b95d-42abf9574ab7"
      },
      "execution_count": null,
      "outputs": [
        {
          "output_type": "execute_result",
          "data": {
            "text/plain": [
              "20"
            ]
          },
          "metadata": {},
          "execution_count": 41
        }
      ]
    },
    {
      "cell_type": "code",
      "source": [
        "b = [1,2,3, [4,5,6, [7,8,9, [10,11, 12]]]]"
      ],
      "metadata": {
        "id": "c7YcCbThzoL8"
      },
      "execution_count": null,
      "outputs": []
    },
    {
      "cell_type": "code",
      "source": [
        "b[3][3][3][1]"
      ],
      "metadata": {
        "colab": {
          "base_uri": "https://localhost:8080/"
        },
        "id": "-qdWV4opzXou",
        "outputId": "75f0069e-376a-470e-c1c5-157ab4f51d44"
      },
      "execution_count": null,
      "outputs": [
        {
          "output_type": "execute_result",
          "data": {
            "text/plain": [
              "11"
            ]
          },
          "metadata": {},
          "execution_count": 48
        }
      ]
    },
    {
      "cell_type": "code",
      "source": [
        "c = [1,2,3,4,5,6]\n",
        "c.append(7)"
      ],
      "metadata": {
        "id": "h15Z1afs3wop"
      },
      "execution_count": null,
      "outputs": []
    },
    {
      "cell_type": "code",
      "source": [
        "c.append([7,8,9])"
      ],
      "metadata": {
        "id": "PywuEFrGzXsp"
      },
      "execution_count": null,
      "outputs": []
    },
    {
      "cell_type": "code",
      "source": [
        "c.extend([10,11,12])"
      ],
      "metadata": {
        "id": "ZYbut1ODzXvl"
      },
      "execution_count": null,
      "outputs": []
    },
    {
      "cell_type": "code",
      "source": [
        "c.extend([14, 'Uttam', True])"
      ],
      "metadata": {
        "id": "MSRfyTWYzX7u"
      },
      "execution_count": null,
      "outputs": []
    },
    {
      "cell_type": "code",
      "source": [
        "c[7][3]"
      ],
      "metadata": {
        "colab": {
          "base_uri": "https://localhost:8080/"
        },
        "id": "58eQs_uHzX-g",
        "outputId": "56494357-6ec3-4e83-a43b-c54037559901"
      },
      "execution_count": null,
      "outputs": [
        {
          "output_type": "execute_result",
          "data": {
            "text/plain": [
              "['Dhaya', 'Imran']"
            ]
          },
          "metadata": {},
          "execution_count": 70
        }
      ]
    },
    {
      "cell_type": "code",
      "source": [
        "c[7].append(['Dhaya', 'Imran', True, False, 34.4])"
      ],
      "metadata": {
        "id": "7spzjUDnzYB_"
      },
      "execution_count": null,
      "outputs": []
    },
    {
      "cell_type": "code",
      "source": [
        "c"
      ],
      "metadata": {
        "colab": {
          "base_uri": "https://localhost:8080/"
        },
        "id": "Woks5WxR6LVj",
        "outputId": "cd5a5564-9a96-425d-e351-60a7861652f1"
      },
      "execution_count": null,
      "outputs": [
        {
          "output_type": "execute_result",
          "data": {
            "text/plain": [
              "[1,\n",
              " 2,\n",
              " 3,\n",
              " 4,\n",
              " 5,\n",
              " 6,\n",
              " 7,\n",
              " [7, 8, 9, ['Dhaya', 'Imran'], ['Dhaya', 'Imran', True, False, 34.4]],\n",
              " 10,\n",
              " 11,\n",
              " 12,\n",
              " 14,\n",
              " 'Uttam',\n",
              " True]"
            ]
          },
          "metadata": {},
          "execution_count": 65
        }
      ]
    },
    {
      "cell_type": "code",
      "source": [
        "c"
      ],
      "metadata": {
        "colab": {
          "base_uri": "https://localhost:8080/"
        },
        "id": "NWWIDv8i6LYn",
        "outputId": "84b77877-5d18-4ccf-ea10-0d9756bfae5c"
      },
      "execution_count": null,
      "outputs": [
        {
          "output_type": "execute_result",
          "data": {
            "text/plain": [
              "[1,\n",
              " 2,\n",
              " 3,\n",
              " 4,\n",
              " 5,\n",
              " 6,\n",
              " 7,\n",
              " [7, 8, 9, ['Dhaya', 'Imran'], ['Dhaya', 'Imran', True, False, 34.4]],\n",
              " 10,\n",
              " 11,\n",
              " 12,\n",
              " 14,\n",
              " 'Uttam',\n",
              " True]"
            ]
          },
          "metadata": {},
          "execution_count": 71
        }
      ]
    },
    {
      "cell_type": "code",
      "source": [
        "c.insert(0, 'Machine Learning')"
      ],
      "metadata": {
        "id": "e6ackmiC60rz"
      },
      "execution_count": null,
      "outputs": []
    },
    {
      "cell_type": "code",
      "source": [
        "c"
      ],
      "metadata": {
        "colab": {
          "base_uri": "https://localhost:8080/"
        },
        "id": "Sc1XAHgr60ub",
        "outputId": "c1281478-3c50-43c0-906e-62dc2b5005a5"
      },
      "execution_count": null,
      "outputs": [
        {
          "output_type": "execute_result",
          "data": {
            "text/plain": [
              "['Machine Learning',\n",
              " 1,\n",
              " 2,\n",
              " 3,\n",
              " 4,\n",
              " 5,\n",
              " 6,\n",
              " 7,\n",
              " [7, 8, 9, ['Dhaya', 'Imran'], ['Dhaya', 'Imran', True, False, 34.4]],\n",
              " 10,\n",
              " 11,\n",
              " 12,\n",
              " 14,\n",
              " 'Uttam',\n",
              " True]"
            ]
          },
          "metadata": {},
          "execution_count": 73
        }
      ]
    },
    {
      "cell_type": "code",
      "source": [
        "c[9]."
      ],
      "metadata": {
        "colab": {
          "base_uri": "https://localhost:8080/"
        },
        "id": "UxNPdVnZ60xU",
        "outputId": "105820a9-34cb-4dec-cf5a-8a312ff44fc5"
      },
      "execution_count": null,
      "outputs": [
        {
          "output_type": "execute_result",
          "data": {
            "text/plain": [
              "[7, 8, 9, ['Dhaya', 'Imran'], ['Dhaya', 'Imran', True, False, 34.4]]"
            ]
          },
          "metadata": {},
          "execution_count": 77
        }
      ]
    },
    {
      "cell_type": "code",
      "source": [
        "c"
      ],
      "metadata": {
        "colab": {
          "base_uri": "https://localhost:8080/"
        },
        "id": "To9fWoq2_W6m",
        "outputId": "e3f896e3-031c-49d7-eb93-e1b9be1a98c3"
      },
      "execution_count": null,
      "outputs": [
        {
          "output_type": "execute_result",
          "data": {
            "text/plain": [
              "['Machine Learning',\n",
              " 1,\n",
              " 2,\n",
              " 3,\n",
              " 4,\n",
              " 5,\n",
              " 6,\n",
              " 7,\n",
              " 'Imran Khan',\n",
              " [7, 8, 9, ['Dhaya', 'Imran'], ['Dhaya', 'Imran', True, False, 34.4]],\n",
              " 10,\n",
              " 11,\n",
              " 12,\n",
              " 14,\n",
              " 'Uttam',\n",
              " True]"
            ]
          },
          "metadata": {},
          "execution_count": 76
        }
      ]
    },
    {
      "cell_type": "code",
      "source": [
        "a = input('Enter the name')\n",
        "b = a.split()\n",
        "print(b)\n"
      ],
      "metadata": {
        "colab": {
          "base_uri": "https://localhost:8080/"
        },
        "id": "Ysh_jYHw_W9X",
        "outputId": "871a581f-922b-45bb-e977-8a3103b1342e"
      },
      "execution_count": null,
      "outputs": [
        {
          "output_type": "stream",
          "name": "stdout",
          "text": [
            "Enter the nameok my name is dhanya\n",
            "['ok', 'my', 'name', 'is', 'dhanya']\n"
          ]
        }
      ]
    },
    {
      "cell_type": "code",
      "source": [
        "a = 'machine'\n",
        "a.split()"
      ],
      "metadata": {
        "colab": {
          "base_uri": "https://localhost:8080/"
        },
        "id": "mFrCP4gt_XAH",
        "outputId": "a9f36d0b-85e3-4ce3-a61b-9e7d8fb17853"
      },
      "execution_count": null,
      "outputs": [
        {
          "output_type": "execute_result",
          "data": {
            "text/plain": [
              "['machine']"
            ]
          },
          "metadata": {},
          "execution_count": 80
        }
      ]
    },
    {
      "cell_type": "code",
      "source": [
        "'machine'.split()"
      ],
      "metadata": {
        "colab": {
          "base_uri": "https://localhost:8080/"
        },
        "id": "yxswPVBR_XDH",
        "outputId": "460b490e-2618-427b-972a-00eaa70cbb2e"
      },
      "execution_count": null,
      "outputs": [
        {
          "output_type": "execute_result",
          "data": {
            "text/plain": [
              "['machine']"
            ]
          },
          "metadata": {},
          "execution_count": 81
        }
      ]
    },
    {
      "cell_type": "code",
      "source": [],
      "metadata": {
        "id": "M80bFiAS_XFY"
      },
      "execution_count": null,
      "outputs": []
    },
    {
      "cell_type": "code",
      "source": [
        "c.reverse()"
      ],
      "metadata": {
        "id": "8mkwfLok60zs"
      },
      "execution_count": null,
      "outputs": []
    },
    {
      "cell_type": "code",
      "source": [
        "c"
      ],
      "metadata": {
        "colab": {
          "base_uri": "https://localhost:8080/"
        },
        "id": "mEPyvIRu602-",
        "outputId": "8428a260-5bad-416d-e15b-c32d5bd84263"
      },
      "execution_count": null,
      "outputs": [
        {
          "output_type": "execute_result",
          "data": {
            "text/plain": [
              "[True,\n",
              " 'Uttam',\n",
              " 14,\n",
              " 12,\n",
              " 11,\n",
              " 10,\n",
              " [7, 8, 9, ['Dhaya', 'Imran'], ['Dhaya', 'Imran', True, False, 34.4]],\n",
              " 'Imran Khan',\n",
              " 7,\n",
              " 6,\n",
              " 5,\n",
              " 4,\n",
              " 3,\n",
              " 2,\n",
              " 1,\n",
              " 'Machine Learning']"
            ]
          },
          "metadata": {},
          "execution_count": 87
        }
      ]
    },
    {
      "cell_type": "code",
      "source": [
        " ## Arrange string characters such that lowercase letters should come first\n",
        " ## str1 = PyNaTive\n",
        "   ## Ouput = yaivePNT"
      ],
      "metadata": {
        "id": "lRP_4bFN605K"
      },
      "execution_count": null,
      "outputs": []
    },
    {
      "cell_type": "code",
      "source": [
        "##  Count all letters, digits, and special symbols from a given string\n",
        "# Given:str1 = \"P@#yn26at^&i5ve\""
      ],
      "metadata": {
        "id": "CiZWGjem608r"
      },
      "execution_count": null,
      "outputs": []
    },
    {
      "cell_type": "code",
      "source": [
        "# Calculate the sum and average of the digits present in a string\n",
        "# str1 = \"PYnative29@#8496\"\n",
        "\n",
        "str1 = \"PYnative29@#8496\"\n",
        "c = 0\n",
        "d = 0\n",
        "\n",
        "for i in str1:\n",
        "  if i.isdigit():\n",
        "    c += int(i)\n",
        "    d += 1\n",
        "\n",
        "print(c)\n",
        "print(c//d)\n",
        "\n"
      ],
      "metadata": {
        "id": "ylQdwoGc60_M",
        "colab": {
          "base_uri": "https://localhost:8080/"
        },
        "outputId": "24f83e59-c927-4a0f-c2b9-2fe4d88b5d04"
      },
      "execution_count": 5,
      "outputs": [
        {
          "output_type": "stream",
          "name": "stdout",
          "text": [
            "38\n",
            "6\n"
          ]
        }
      ]
    },
    {
      "cell_type": "code",
      "source": [
        "#Write a program to count occurrences of all characters within a string\n",
        "# str1 = \"Apple\""
      ],
      "metadata": {
        "colab": {
          "base_uri": "https://localhost:8080/"
        },
        "id": "rG4UN17n61BW",
        "outputId": "3cf56379-2ae6-401f-ea51-1bf8aec898e5"
      },
      "execution_count": null,
      "outputs": [
        {
          "output_type": "stream",
          "name": "stdout",
          "text": [
            "15\n"
          ]
        }
      ]
    },
    {
      "cell_type": "code",
      "source": [
        "str1 = \"PYnative29@#8496\"\n",
        "\n",
        "for i in str1:\n",
        "  if i.isdigit():\n",
        "    digit = i\n",
        "    # digit += 0\n",
        "    print(digit)"
      ],
      "metadata": {
        "colab": {
          "base_uri": "https://localhost:8080/"
        },
        "id": "sTM1URHY61D6",
        "outputId": "7fcb3b8b-3651-496e-97bd-0774da6c343f"
      },
      "execution_count": null,
      "outputs": [
        {
          "output_type": "stream",
          "name": "stdout",
          "text": [
            "2\n",
            "9\n",
            "8\n",
            "4\n",
            "9\n",
            "6\n"
          ]
        }
      ]
    },
    {
      "cell_type": "code",
      "source": [],
      "metadata": {
        "id": "lnfzz5hW61Gl"
      },
      "execution_count": null,
      "outputs": []
    },
    {
      "cell_type": "code",
      "source": [],
      "metadata": {
        "id": "z6_O1XRa6Lcs"
      },
      "execution_count": null,
      "outputs": []
    },
    {
      "cell_type": "code",
      "source": [],
      "metadata": {
        "id": "NIaCQyD16LgP"
      },
      "execution_count": null,
      "outputs": []
    },
    {
      "cell_type": "code",
      "source": [],
      "metadata": {
        "id": "kZ1JrH3S6Ljh"
      },
      "execution_count": null,
      "outputs": []
    },
    {
      "cell_type": "code",
      "source": [],
      "metadata": {
        "id": "F5KS-9u26Llf"
      },
      "execution_count": null,
      "outputs": []
    }
  ]
}