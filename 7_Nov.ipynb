{
  "nbformat": 4,
  "nbformat_minor": 0,
  "metadata": {
    "colab": {
      "provenance": [],
      "collapsed_sections": []
    },
    "kernelspec": {
      "name": "python3",
      "display_name": "Python 3"
    },
    "language_info": {
      "name": "python"
    }
  },
  "cells": [
    {
      "cell_type": "code",
      "execution_count": null,
      "metadata": {
        "id": "8ibHRc2GbTDB"
      },
      "outputs": [],
      "source": [
        "### Data Types ####\n",
        "## String\n",
        "## integer\n",
        "## Float\n",
        "## boolean\n",
        "## Complex"
      ]
    },
    {
      "cell_type": "code",
      "source": [
        "## Data Type COnversion( convert one data type into another data type)\n",
        "a = 12\n",
        "str(a)\n",
        "a = 13\n",
        "print(a)"
      ],
      "metadata": {
        "colab": {
          "base_uri": "https://localhost:8080/"
        },
        "id": "T61JFH5JbYrl",
        "outputId": "fda35cb6-9fc2-4fc5-fb3f-90d947c0689b"
      },
      "execution_count": null,
      "outputs": [
        {
          "output_type": "stream",
          "name": "stdout",
          "text": [
            "13\n"
          ]
        }
      ]
    },
    {
      "cell_type": "code",
      "source": [
        "c = 'Uttam' ## object (Data)\n",
        "c = 12\n",
        "c = 34.5 ### \n",
        "c = True"
      ],
      "metadata": {
        "id": "fKA9pROHcvlS"
      },
      "execution_count": null,
      "outputs": []
    },
    {
      "cell_type": "code",
      "source": [
        "# Everything Is an Object in Python..\n",
        "# In object-oriented programming languages(Oops) like Python, \n",
        "# an object is an entity that contains data along with associated metadata and/or functionality. \n",
        "# In Python everything is an object, which means every entity has some \n",
        "# metadata (called attributes) and associated functionality (called methods)."
      ],
      "metadata": {
        "id": "WI66kMhRbYuL"
      },
      "execution_count": null,
      "outputs": []
    },
    {
      "cell_type": "code",
      "source": [
        "## Memory Allocation"
      ],
      "metadata": {
        "id": "CYRm1ljAbYwC"
      },
      "execution_count": null,
      "outputs": []
    },
    {
      "cell_type": "code",
      "source": [
        "x = 'Uttam Grade is my name'\n",
        "print(x)"
      ],
      "metadata": {
        "colab": {
          "base_uri": "https://localhost:8080/"
        },
        "id": "DBwkUL7YbYy2",
        "outputId": "601762e7-d2f9-4301-99cc-765df5564e6b"
      },
      "execution_count": null,
      "outputs": [
        {
          "output_type": "stream",
          "name": "stdout",
          "text": [
            "Uttam Grade is my name\n"
          ]
        }
      ]
    },
    {
      "cell_type": "code",
      "source": [
        "id(x) # memory allocation refeernce /Address"
      ],
      "metadata": {
        "colab": {
          "base_uri": "https://localhost:8080/"
        },
        "id": "YCcN89etbY3U",
        "outputId": "b44a8cb1-5c07-4946-b6ff-744a5f09bc30"
      },
      "execution_count": null,
      "outputs": [
        {
          "output_type": "execute_result",
          "data": {
            "text/plain": [
              "140055814329168"
            ]
          },
          "metadata": {},
          "execution_count": 11
        }
      ]
    },
    {
      "cell_type": "code",
      "source": [
        "x = 'Uttam1'\n",
        "y = 'Grade'\n",
        "id(x)"
      ],
      "metadata": {
        "colab": {
          "base_uri": "https://localhost:8080/"
        },
        "id": "iz6ymOEnbY57",
        "outputId": "cd27a269-0cdc-4a5d-b1ed-28b41db7dfa3"
      },
      "execution_count": null,
      "outputs": [
        {
          "output_type": "execute_result",
          "data": {
            "text/plain": [
              "140055820013104"
            ]
          },
          "metadata": {},
          "execution_count": 19
        }
      ]
    },
    {
      "cell_type": "code",
      "source": [
        "print('Uttam' + \"Grade\")"
      ],
      "metadata": {
        "colab": {
          "base_uri": "https://localhost:8080/"
        },
        "id": "JKmOVUBcbY8p",
        "outputId": "c2f8439d-a3c0-4c94-cd13-39ea2c7ca03c"
      },
      "execution_count": null,
      "outputs": [
        {
          "output_type": "stream",
          "name": "stdout",
          "text": [
            "UttamGrade\n"
          ]
        }
      ]
    },
    {
      "cell_type": "code",
      "source": [
        "print(x)"
      ],
      "metadata": {
        "colab": {
          "base_uri": "https://localhost:8080/"
        },
        "id": "WQG_qAkJbY_X",
        "outputId": "04bdd4cf-a361-49d0-88da-93d92ee9f7cf"
      },
      "execution_count": null,
      "outputs": [
        {
          "output_type": "stream",
          "name": "stdout",
          "text": [
            "Uttam\n"
          ]
        }
      ]
    },
    {
      "cell_type": "code",
      "source": [
        "print('Uttam' + \"Grade\")"
      ],
      "metadata": {
        "colab": {
          "base_uri": "https://localhost:8080/"
        },
        "id": "wkv6iiLHbZCo",
        "outputId": "52e8c1bc-0f90-4e2c-c566-c54882ab07c2"
      },
      "execution_count": null,
      "outputs": [
        {
          "output_type": "stream",
          "name": "stdout",
          "text": [
            "UttamGrade\n"
          ]
        }
      ]
    },
    {
      "cell_type": "code",
      "source": [
        "## Two Types of Memory allocation \n",
        "# Stack Memory \n",
        "a = 2354\n",
        "# Heap Memory\n",
        "z = [0]*10\n",
        "print(z)"
      ],
      "metadata": {
        "colab": {
          "base_uri": "https://localhost:8080/"
        },
        "id": "H_euc9IPbZF2",
        "outputId": "3a8d2f81-5bf1-4554-de6d-24da81c8f5ce"
      },
      "execution_count": null,
      "outputs": [
        {
          "output_type": "stream",
          "name": "stdout",
          "text": [
            "[0, 0, 0, 0, 0, 0, 0, 0, 0, 0]\n"
          ]
        }
      ]
    },
    {
      "cell_type": "code",
      "source": [
        "## Stack memory\n",
        "m = 'Machine Learning'\n",
        "id(m)"
      ],
      "metadata": {
        "colab": {
          "base_uri": "https://localhost:8080/"
        },
        "id": "q1yKY1BgbZIu",
        "outputId": "773ba38e-c318-4099-c823-e192c6b507be"
      },
      "execution_count": null,
      "outputs": [
        {
          "output_type": "execute_result",
          "data": {
            "text/plain": [
              "140055814623360"
            ]
          },
          "metadata": {},
          "execution_count": 23
        }
      ]
    },
    {
      "cell_type": "code",
      "source": [
        "## Heap Memory\n",
        "h = [3]*15\n",
        "h"
      ],
      "metadata": {
        "colab": {
          "base_uri": "https://localhost:8080/"
        },
        "id": "7nggTurobZLC",
        "outputId": "9a41b37a-8920-48bc-e538-ce7705308402"
      },
      "execution_count": null,
      "outputs": [
        {
          "output_type": "execute_result",
          "data": {
            "text/plain": [
              "[3, 3, 3, 3, 3, 3, 3, 3, 3, 3, 3, 3, 3, 3, 3]"
            ]
          },
          "metadata": {},
          "execution_count": 29
        }
      ]
    },
    {
      "cell_type": "code",
      "source": [
        "3 * 15"
      ],
      "metadata": {
        "colab": {
          "base_uri": "https://localhost:8080/"
        },
        "id": "dW7BFsO5bZOO",
        "outputId": "57d1a9c8-22ae-4de9-f0d4-51e134bd1a03"
      },
      "execution_count": null,
      "outputs": [
        {
          "output_type": "execute_result",
          "data": {
            "text/plain": [
              "45"
            ]
          },
          "metadata": {},
          "execution_count": 30
        }
      ]
    },
    {
      "cell_type": "code",
      "source": [
        "[3,4,5] * 5"
      ],
      "metadata": {
        "colab": {
          "base_uri": "https://localhost:8080/"
        },
        "id": "FU-35_JUbZQD",
        "outputId": "bed3f90a-dbf9-42f0-aeeb-faa51036a19d"
      },
      "execution_count": null,
      "outputs": [
        {
          "output_type": "execute_result",
          "data": {
            "text/plain": [
              "[3, 4, 5, 3, 4, 5, 3, 4, 5, 3, 4, 5, 3, 4, 5]"
            ]
          },
          "metadata": {},
          "execution_count": 32
        }
      ]
    },
    {
      "cell_type": "code",
      "source": [
        "a = 3\n",
        "b = [3,4,5,6,67,8]"
      ],
      "metadata": {
        "id": "y8o2O8KGk4q8"
      },
      "execution_count": null,
      "outputs": []
    },
    {
      "cell_type": "code",
      "source": [
        "(3) + 10"
      ],
      "metadata": {
        "colab": {
          "base_uri": "https://localhost:8080/"
        },
        "id": "ME5zsP1Qk4t3",
        "outputId": "f7596398-95cd-4403-86e7-5a285c1f3de8"
      },
      "execution_count": null,
      "outputs": [
        {
          "output_type": "execute_result",
          "data": {
            "text/plain": [
              "13"
            ]
          },
          "metadata": {},
          "execution_count": 37
        }
      ]
    },
    {
      "cell_type": "code",
      "source": [
        "################# Data Structure/Containers ( who contain multiple data types) ##################\n",
        "m = 20\n",
        "print(m)"
      ],
      "metadata": {
        "colab": {
          "base_uri": "https://localhost:8080/"
        },
        "id": "34dcwWHxk4x9",
        "outputId": "7f30202d-643b-4bed-ed98-58b2af71286e"
      },
      "execution_count": null,
      "outputs": [
        {
          "output_type": "stream",
          "name": "stdout",
          "text": [
            "20\n"
          ]
        }
      ]
    },
    {
      "cell_type": "code",
      "source": [
        "m = [20,30,40,50, 'Uttam', True] ## #Elements( values )\n",
        "print(type(m))\n",
        "print(m)"
      ],
      "metadata": {
        "colab": {
          "base_uri": "https://localhost:8080/"
        },
        "id": "9jBDfgzcmUs_",
        "outputId": "ff7b96e6-400e-4df6-adff-ee052c0d28b5"
      },
      "execution_count": null,
      "outputs": [
        {
          "output_type": "stream",
          "name": "stdout",
          "text": [
            "<class 'list'>\n",
            "[20, 30, 40, 50, 'Uttam', True]\n"
          ]
        }
      ]
    },
    {
      "cell_type": "code",
      "source": [
        "#### List, []\n",
        "#### Tuple\n",
        "#### Dictionary \n",
        "#### Set\n"
      ],
      "metadata": {
        "id": "bK-6ciYZmUvj"
      },
      "execution_count": null,
      "outputs": []
    },
    {
      "cell_type": "code",
      "source": [
        "## Make a list with 10 elements, with integer, float , bool,string"
      ],
      "metadata": {
        "id": "997uTNs6oRus"
      },
      "execution_count": null,
      "outputs": []
    },
    {
      "cell_type": "code",
      "source": [
        "### Arithmetic Operators\n",
        "# +(Addition), -(subtract), *(multiple), /(divide), %(Modulus) , **(Power), // ( FLoor division)"
      ],
      "metadata": {
        "id": "2u3ISDDXoRxy"
      },
      "execution_count": null,
      "outputs": []
    },
    {
      "cell_type": "code",
      "source": [
        "x = 10\n",
        "y = 2\n",
        "x + y"
      ],
      "metadata": {
        "colab": {
          "base_uri": "https://localhost:8080/"
        },
        "id": "vQLve8B8oR0k",
        "outputId": "5cdf1e40-bd9d-4a1c-e388-fe1104624bac"
      },
      "execution_count": null,
      "outputs": [
        {
          "output_type": "execute_result",
          "data": {
            "text/plain": [
              "12"
            ]
          },
          "metadata": {},
          "execution_count": 43
        }
      ]
    },
    {
      "cell_type": "code",
      "source": [
        "x - y"
      ],
      "metadata": {
        "colab": {
          "base_uri": "https://localhost:8080/"
        },
        "id": "tC7D5l54oR3e",
        "outputId": "9b6f6eba-25b1-4145-d70b-e476a8a87a19"
      },
      "execution_count": null,
      "outputs": [
        {
          "output_type": "execute_result",
          "data": {
            "text/plain": [
              "8"
            ]
          },
          "metadata": {},
          "execution_count": 44
        }
      ]
    },
    {
      "cell_type": "code",
      "source": [
        "x * y"
      ],
      "metadata": {
        "colab": {
          "base_uri": "https://localhost:8080/"
        },
        "id": "6tl-mFsOoR6u",
        "outputId": "a375e515-3b18-4198-cdfc-e01e1ade4d54"
      },
      "execution_count": null,
      "outputs": [
        {
          "output_type": "execute_result",
          "data": {
            "text/plain": [
              "20"
            ]
          },
          "metadata": {},
          "execution_count": 45
        }
      ]
    },
    {
      "cell_type": "code",
      "source": [
        "x/y"
      ],
      "metadata": {
        "colab": {
          "base_uri": "https://localhost:8080/"
        },
        "id": "BjlkzCt2oR9c",
        "outputId": "95a419da-3cd3-4d3b-9580-7f6321f1529d"
      },
      "execution_count": null,
      "outputs": [
        {
          "output_type": "execute_result",
          "data": {
            "text/plain": [
              "5.0"
            ]
          },
          "metadata": {},
          "execution_count": 46
        }
      ]
    },
    {
      "cell_type": "code",
      "source": [
        "x//y"
      ],
      "metadata": {
        "colab": {
          "base_uri": "https://localhost:8080/"
        },
        "id": "uYXb6Ql7mUyP",
        "outputId": "30aeba4e-e88b-48e8-918f-9b6e00b58570"
      },
      "execution_count": null,
      "outputs": [
        {
          "output_type": "execute_result",
          "data": {
            "text/plain": [
              "5"
            ]
          },
          "metadata": {},
          "execution_count": 47
        }
      ]
    },
    {
      "cell_type": "code",
      "source": [
        "x%y"
      ],
      "metadata": {
        "colab": {
          "base_uri": "https://localhost:8080/"
        },
        "id": "GQR65BNPmU0i",
        "outputId": "b20ba10c-7980-4f55-d7e9-827c999bf435"
      },
      "execution_count": null,
      "outputs": [
        {
          "output_type": "execute_result",
          "data": {
            "text/plain": [
              "0"
            ]
          },
          "metadata": {},
          "execution_count": 48
        }
      ]
    },
    {
      "cell_type": "code",
      "source": [
        "x**y"
      ],
      "metadata": {
        "colab": {
          "base_uri": "https://localhost:8080/"
        },
        "id": "_-w5LBD6mU4f",
        "outputId": "0e634d72-d70a-4381-82f1-43ac7e873d8d"
      },
      "execution_count": null,
      "outputs": [
        {
          "output_type": "execute_result",
          "data": {
            "text/plain": [
              "100"
            ]
          },
          "metadata": {},
          "execution_count": 49
        }
      ]
    },
    {
      "cell_type": "code",
      "source": [
        "10**2"
      ],
      "metadata": {
        "colab": {
          "base_uri": "https://localhost:8080/"
        },
        "id": "pqf7FpirmU7A",
        "outputId": "85969621-3a4e-46f7-b227-664f56132373"
      },
      "execution_count": null,
      "outputs": [
        {
          "output_type": "execute_result",
          "data": {
            "text/plain": [
              "100"
            ]
          },
          "metadata": {},
          "execution_count": 53
        }
      ]
    },
    {
      "cell_type": "code",
      "source": [
        "10//2"
      ],
      "metadata": {
        "colab": {
          "base_uri": "https://localhost:8080/"
        },
        "id": "dO8WIQUctViG",
        "outputId": "b3d76c1f-9586-488c-a0bd-ceb7ad68ad32"
      },
      "execution_count": null,
      "outputs": [
        {
          "output_type": "execute_result",
          "data": {
            "text/plain": [
              "5"
            ]
          },
          "metadata": {},
          "execution_count": 54
        }
      ]
    },
    {
      "cell_type": "code",
      "source": [
        "10/2"
      ],
      "metadata": {
        "colab": {
          "base_uri": "https://localhost:8080/"
        },
        "id": "6lbG-R3atVk5",
        "outputId": "a4dd170e-3439-4256-8a54-4d2968a14c0f"
      },
      "execution_count": null,
      "outputs": [
        {
          "output_type": "execute_result",
          "data": {
            "text/plain": [
              "5.0"
            ]
          },
          "metadata": {},
          "execution_count": 55
        }
      ]
    },
    {
      "cell_type": "code",
      "source": [
        "### Logical Operator ########\n",
        "# AND, \n",
        "# OR, \n",
        "# NOT"
      ],
      "metadata": {
        "id": "vXNOpfwImU9H"
      },
      "execution_count": null,
      "outputs": []
    },
    {
      "cell_type": "code",
      "source": [
        "x = 10\n",
        "# ANd statement both the condiont should be true other wise it will givve you the False\n",
        "x < 20 and x < 5"
      ],
      "metadata": {
        "colab": {
          "base_uri": "https://localhost:8080/"
        },
        "id": "AVOb3IprmU_l",
        "outputId": "62ba424e-7fed-4141-9907-b20f836e05a9"
      },
      "execution_count": null,
      "outputs": [
        {
          "output_type": "execute_result",
          "data": {
            "text/plain": [
              "False"
            ]
          },
          "metadata": {},
          "execution_count": 59
        }
      ]
    },
    {
      "cell_type": "code",
      "source": [
        "print(x < 20 or x < 5)"
      ],
      "metadata": {
        "colab": {
          "base_uri": "https://localhost:8080/"
        },
        "id": "xEzz3ObbmVCh",
        "outputId": "7235515a-93ff-4fe4-c342-0ab963422bfa"
      },
      "execution_count": null,
      "outputs": [
        {
          "output_type": "stream",
          "name": "stdout",
          "text": [
            "True\n"
          ]
        }
      ]
    },
    {
      "cell_type": "code",
      "source": [
        "#1.both conditions are true it returns true and one condition is false it returns true \n",
        "#2.when both condition is false then only it returns false\n"
      ],
      "metadata": {
        "id": "1BAWFZhEmVFa"
      },
      "execution_count": null,
      "outputs": []
    },
    {
      "cell_type": "code",
      "source": [
        "### AND ----> True, True --> True\n",
        "              #True, False --> False\n",
        "              # False, True --> False\n",
        "              # False, False --> False\n",
        "\n",
        "### OR ---->  True, False --> True\n",
        "            # False, True --> True\n",
        "            # False, False --> False\n",
        "            # True, True --> True"
      ],
      "metadata": {
        "id": "8E8olOEomVIW"
      },
      "execution_count": null,
      "outputs": []
    },
    {
      "cell_type": "code",
      "source": [
        "x < 20 or x < 5"
      ],
      "metadata": {
        "colab": {
          "base_uri": "https://localhost:8080/"
        },
        "id": "PZonrnuxk40w",
        "outputId": "1178a694-0320-4f00-e96c-b6eda61cf6ed"
      },
      "execution_count": null,
      "outputs": [
        {
          "output_type": "execute_result",
          "data": {
            "text/plain": [
              "True"
            ]
          },
          "metadata": {},
          "execution_count": 66
        }
      ]
    },
    {
      "cell_type": "code",
      "source": [],
      "metadata": {
        "id": "z9fj3hBjw4RS"
      },
      "execution_count": null,
      "outputs": []
    },
    {
      "cell_type": "code",
      "source": [],
      "metadata": {
        "id": "gy1iuepEw4UW"
      },
      "execution_count": null,
      "outputs": []
    },
    {
      "cell_type": "code",
      "source": [
        "a = [1,2,3]\n",
        "id(a)"
      ],
      "metadata": {
        "id": "VbsCHq97w4Wv",
        "colab": {
          "base_uri": "https://localhost:8080/"
        },
        "outputId": "c3a1119e-8b80-4037-c176-c5eb0da46a03"
      },
      "execution_count": null,
      "outputs": [
        {
          "output_type": "execute_result",
          "data": {
            "text/plain": [
              "139809873964960"
            ]
          },
          "metadata": {},
          "execution_count": 1
        }
      ]
    },
    {
      "cell_type": "code",
      "source": [
        "a.append(4)"
      ],
      "metadata": {
        "id": "XNpj1SE7w4ZP"
      },
      "execution_count": null,
      "outputs": []
    },
    {
      "cell_type": "code",
      "source": [
        "id(a)"
      ],
      "metadata": {
        "id": "Q7DIAcZnw4be",
        "colab": {
          "base_uri": "https://localhost:8080/"
        },
        "outputId": "ae933c4b-423d-46fc-e499-0dd6d7cdb869"
      },
      "execution_count": null,
      "outputs": [
        {
          "output_type": "execute_result",
          "data": {
            "text/plain": [
              "139809873964960"
            ]
          },
          "metadata": {},
          "execution_count": 3
        }
      ]
    },
    {
      "cell_type": "code",
      "source": [],
      "metadata": {
        "id": "Lxps9Aepk437"
      },
      "execution_count": null,
      "outputs": []
    },
    {
      "cell_type": "code",
      "source": [],
      "metadata": {
        "id": "s01ufrUEjMJV"
      },
      "execution_count": null,
      "outputs": []
    },
    {
      "cell_type": "code",
      "source": [],
      "metadata": {
        "id": "HOKMDZY-jMMd"
      },
      "execution_count": null,
      "outputs": []
    },
    {
      "cell_type": "code",
      "source": [],
      "metadata": {
        "id": "HpLG3vaTjMPY"
      },
      "execution_count": null,
      "outputs": []
    },
    {
      "cell_type": "code",
      "source": [],
      "metadata": {
        "id": "WOObNb37jMRz"
      },
      "execution_count": null,
      "outputs": []
    },
    {
      "cell_type": "code",
      "source": [],
      "metadata": {
        "id": "nZfuvKq0jMUx"
      },
      "execution_count": null,
      "outputs": []
    },
    {
      "cell_type": "code",
      "source": [],
      "metadata": {
        "id": "eqcZ16hQjMXo"
      },
      "execution_count": null,
      "outputs": []
    },
    {
      "cell_type": "code",
      "source": [],
      "metadata": {
        "id": "NU2FkRDyjMak"
      },
      "execution_count": null,
      "outputs": []
    },
    {
      "cell_type": "code",
      "source": [],
      "metadata": {
        "id": "wARkfJ8ljMiF"
      },
      "execution_count": null,
      "outputs": []
    }
  ]
}