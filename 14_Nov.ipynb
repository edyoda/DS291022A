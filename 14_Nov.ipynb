{
  "nbformat": 4,
  "nbformat_minor": 0,
  "metadata": {
    "colab": {
      "provenance": [],
      "collapsed_sections": []
    },
    "kernelspec": {
      "name": "python3",
      "display_name": "Python 3"
    },
    "language_info": {
      "name": "python"
    }
  },
  "cells": [
    {
      "cell_type": "code",
      "execution_count": 4,
      "metadata": {
        "colab": {
          "base_uri": "https://localhost:8080/"
        },
        "id": "FLvyq2crlPxE",
        "outputId": "88120313-1315-4c8f-f7d5-26f6e5ac6604"
      },
      "outputs": [
        {
          "output_type": "execute_result",
          "data": {
            "text/plain": [
              "38"
            ]
          },
          "metadata": {},
          "execution_count": 4
        }
      ],
      "source": [
        "## Len() #####\n",
        "a = 'Machine Learningfj;dslfjl;sdjfkl;sdjkf'\n",
        "len(a)"
      ]
    },
    {
      "cell_type": "code",
      "source": [
        "### While Loops ####\n",
        "for i in a:\n",
        "  print(i) ######## Will run finite times"
      ],
      "metadata": {
        "colab": {
          "base_uri": "https://localhost:8080/"
        },
        "id": "IFC-0CjYlQYt",
        "outputId": "01821155-e82a-4525-de27-8ba766db7412"
      },
      "execution_count": 5,
      "outputs": [
        {
          "output_type": "stream",
          "name": "stdout",
          "text": [
            "M\n",
            "a\n",
            "c\n",
            "h\n",
            "i\n",
            "n\n",
            "e\n",
            " \n",
            "L\n",
            "e\n",
            "a\n",
            "r\n",
            "n\n",
            "i\n",
            "n\n",
            "g\n",
            "f\n",
            "j\n",
            ";\n",
            "d\n",
            "s\n",
            "l\n",
            "f\n",
            "j\n",
            "l\n",
            ";\n",
            "s\n",
            "d\n",
            "j\n",
            "f\n",
            "k\n",
            "l\n",
            ";\n",
            "s\n",
            "d\n",
            "j\n",
            "k\n",
            "f\n"
          ]
        }
      ]
    },
    {
      "cell_type": "code",
      "source": [
        "i = 0\n",
        "while i < 10:\n",
        "  i = i + 1\n",
        "  print(i)"
      ],
      "metadata": {
        "colab": {
          "base_uri": "https://localhost:8080/"
        },
        "id": "Zy7s8-KolQbT",
        "outputId": "16a9ede9-aeb8-4a8a-de30-67e4ede8894d"
      },
      "execution_count": 7,
      "outputs": [
        {
          "output_type": "stream",
          "name": "stdout",
          "text": [
            "1\n",
            "2\n",
            "3\n",
            "4\n",
            "5\n",
            "6\n",
            "7\n",
            "8\n",
            "9\n",
            "10\n"
          ]
        }
      ]
    },
    {
      "cell_type": "code",
      "source": [
        "i"
      ],
      "metadata": {
        "colab": {
          "base_uri": "https://localhost:8080/"
        },
        "id": "A88yAM6ysIEu",
        "outputId": "f799f713-8c1a-4147-e67d-ca8a5dda99f8"
      },
      "execution_count": 14,
      "outputs": [
        {
          "output_type": "execute_result",
          "data": {
            "text/plain": [
              "30827"
            ]
          },
          "metadata": {},
          "execution_count": 14
        }
      ]
    },
    {
      "cell_type": "code",
      "source": [
        "\n",
        "c = 0\n",
        "while (c < 3):\n",
        "  i += 1\n",
        "  print('Hello Uttam')\n"
      ],
      "metadata": {
        "colab": {
          "base_uri": "https://localhost:8080/"
        },
        "id": "dI1RFjfflQd-",
        "outputId": "77842ded-911b-4419-b094-49c9b6245166"
      },
      "execution_count": 13,
      "outputs": [
        {
          "output_type": "stream",
          "name": "stdout",
          "text": [
            "Hello Uttam\n",
            "Hello Uttam\n",
            "Hello Uttam\n"
          ]
        }
      ]
    },
    {
      "cell_type": "code",
      "source": [],
      "metadata": {
        "id": "pjqY-eMFlQgo"
      },
      "execution_count": null,
      "outputs": []
    },
    {
      "cell_type": "code",
      "source": [
        "i = 0\n",
        "a = 'Uttam Grade'\n",
        "\n",
        "while i < len(a):\n",
        "  if a[i] == 'a':\n",
        "    i = i + 1\n",
        "    continue\n",
        "  \n",
        "  print('Letter ', a[i])\n",
        "  i = i + 1"
      ],
      "metadata": {
        "colab": {
          "base_uri": "https://localhost:8080/"
        },
        "id": "B8Zofx3OlQjJ",
        "outputId": "794c793e-be2e-4334-b1b8-54554718324f"
      },
      "execution_count": 15,
      "outputs": [
        {
          "output_type": "stream",
          "name": "stdout",
          "text": [
            "Letter  U\n",
            "Letter  t\n",
            "Letter  t\n",
            "Letter  m\n",
            "Letter   \n",
            "Letter  G\n",
            "Letter  r\n",
            "Letter  d\n",
            "Letter  e\n"
          ]
        }
      ]
    },
    {
      "cell_type": "code",
      "source": [
        "i = 0\n",
        "a='uttam'\n",
        "while i < len(a):\n",
        "  if a[i] =='a':\n",
        "    i=i+1\n",
        "    continue\n",
        "  print('letter', a[i])\n",
        "  i=i+1\n"
      ],
      "metadata": {
        "colab": {
          "base_uri": "https://localhost:8080/"
        },
        "id": "igyXVJoalQly",
        "outputId": "e271f8a8-9d66-4215-8b12-7fc565b9568c"
      },
      "execution_count": 20,
      "outputs": [
        {
          "output_type": "stream",
          "name": "stdout",
          "text": [
            "letter u\n",
            "letter t\n",
            "letter t\n",
            "letter m\n"
          ]
        }
      ]
    },
    {
      "cell_type": "code",
      "source": [
        "b =\"rakesh\"\n",
        "d = 0\n",
        "e=[]\n",
        "while d < len(b):\n",
        "    c =b[d]\n",
        "    e.append(c)\n",
        "    print('', e)\n",
        "    d = d + 1\n",
        "\n"
      ],
      "metadata": {
        "colab": {
          "base_uri": "https://localhost:8080/"
        },
        "id": "3bP3EI-glQox",
        "outputId": "5f99049f-956f-4fb5-ae51-3c90b7485219"
      },
      "execution_count": 24,
      "outputs": [
        {
          "output_type": "stream",
          "name": "stdout",
          "text": [
            " ['r']\n",
            " ['r', 'a']\n",
            " ['r', 'a', 'k']\n",
            " ['r', 'a', 'k', 'e']\n",
            " ['r', 'a', 'k', 'e', 's']\n",
            " ['r', 'a', 'k', 'e', 's', 'h']\n"
          ]
        }
      ]
    },
    {
      "cell_type": "code",
      "source": [
        "############# NEsted For Loop ###########\n",
        "a = [[1,234,5,6,7,8], [10,20,'Uttam', 'Grade'],  [100,200,'Uttam K', 'GGGGrade']]\n",
        "for i in a:\n",
        "  for j in i:\n",
        "    print(j)\n"
      ],
      "metadata": {
        "id": "IKsEBsFclQq7"
      },
      "execution_count": null,
      "outputs": []
    },
    {
      "cell_type": "code",
      "source": [],
      "metadata": {
        "id": "CUEBcUtQ7Bt8"
      },
      "execution_count": null,
      "outputs": []
    },
    {
      "cell_type": "code",
      "source": [],
      "metadata": {
        "id": "2iknkQqM7BxM"
      },
      "execution_count": null,
      "outputs": []
    },
    {
      "cell_type": "code",
      "source": [],
      "metadata": {
        "id": "VkhBBK_u7B0R"
      },
      "execution_count": null,
      "outputs": []
    },
    {
      "cell_type": "code",
      "source": [],
      "metadata": {
        "id": "SQqtoHf_7B3t"
      },
      "execution_count": null,
      "outputs": []
    },
    {
      "cell_type": "code",
      "source": [],
      "metadata": {
        "id": "Jz7H8o537B6u"
      },
      "execution_count": null,
      "outputs": []
    },
    {
      "cell_type": "code",
      "source": [],
      "metadata": {
        "id": "XjpJO7oX7B9h"
      },
      "execution_count": null,
      "outputs": []
    },
    {
      "cell_type": "code",
      "source": [],
      "metadata": {
        "id": "YEwMAORz7B_9"
      },
      "execution_count": null,
      "outputs": []
    },
    {
      "cell_type": "code",
      "source": [],
      "metadata": {
        "id": "UpJaZq9olQt_"
      },
      "execution_count": null,
      "outputs": []
    },
    {
      "cell_type": "code",
      "source": [],
      "metadata": {
        "id": "3HLOibGIlQwY"
      },
      "execution_count": null,
      "outputs": []
    },
    {
      "cell_type": "code",
      "source": [],
      "metadata": {
        "id": "vX__uX42lQzM"
      },
      "execution_count": null,
      "outputs": []
    }
  ]
}