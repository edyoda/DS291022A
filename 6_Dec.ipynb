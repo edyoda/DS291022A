{
  "nbformat": 4,
  "nbformat_minor": 0,
  "metadata": {
    "colab": {
      "provenance": []
    },
    "kernelspec": {
      "name": "python3",
      "display_name": "Python 3"
    },
    "language_info": {
      "name": "python"
    }
  },
  "cells": [
    {
      "cell_type": "code",
      "execution_count": 59,
      "metadata": {
        "id": "ehmGVyiF4lE6"
      },
      "outputs": [],
      "source": [
        "### CLasses\n"
      ]
    },
    {
      "cell_type": "code",
      "source": [
        "class employee:\n",
        "  def __init__(self, first, last, salary):\n",
        "    self.first = first\n",
        "    self.last = last\n",
        "    self.salary = salary\n",
        "    self.email = first + '.' + last + '@edyoda.com'\n",
        "\n",
        "  def fullname(self):\n",
        "    return 'first name {} and last name {} and the salary is {}'.format(self.first, self.last, self.salary)\n",
        "\n",
        "  def apply_value(self):\n",
        "    self.salary = int(self.salary * 200)"
      ],
      "metadata": {
        "id": "C7rXgi-Z5BAY"
      },
      "execution_count": 60,
      "outputs": []
    },
    {
      "cell_type": "code",
      "source": [],
      "metadata": {
        "id": "9vbPu8lR-ylp"
      },
      "execution_count": 60,
      "outputs": []
    },
    {
      "cell_type": "code",
      "source": [
        "# def dsfldsk # function"
      ],
      "metadata": {
        "id": "CuB3Dt-m5BDR"
      },
      "execution_count": 61,
      "outputs": []
    },
    {
      "cell_type": "code",
      "source": [
        "emp1 = employee('Uttam', \"Grade\", 100)\n",
        "emp2 = employee('Dhanya', \"Uthappa\", 200)"
      ],
      "metadata": {
        "id": "ftxTB7qv5BG-"
      },
      "execution_count": 62,
      "outputs": []
    },
    {
      "cell_type": "code",
      "source": [
        "emp1.email"
      ],
      "metadata": {
        "colab": {
          "base_uri": "https://localhost:8080/",
          "height": 36
        },
        "id": "be-Y2DO35BLj",
        "outputId": "efc4204e-0ef3-4169-e41b-cf6cb0844811"
      },
      "execution_count": 63,
      "outputs": [
        {
          "output_type": "execute_result",
          "data": {
            "text/plain": [
              "'Uttam.Grade@edyoda.com'"
            ],
            "application/vnd.google.colaboratory.intrinsic+json": {
              "type": "string"
            }
          },
          "metadata": {},
          "execution_count": 63
        }
      ]
    },
    {
      "cell_type": "code",
      "source": [
        "emp2.email"
      ],
      "metadata": {
        "colab": {
          "base_uri": "https://localhost:8080/",
          "height": 36
        },
        "id": "Xj-xI_h65BO3",
        "outputId": "d564136f-6111-4e58-8a16-d58cb395c0b3"
      },
      "execution_count": 64,
      "outputs": [
        {
          "output_type": "execute_result",
          "data": {
            "text/plain": [
              "'Dhanya.Uthappa@edyoda.com'"
            ],
            "application/vnd.google.colaboratory.intrinsic+json": {
              "type": "string"
            }
          },
          "metadata": {},
          "execution_count": 64
        }
      ]
    },
    {
      "cell_type": "code",
      "source": [
        "emp1.fullname()"
      ],
      "metadata": {
        "colab": {
          "base_uri": "https://localhost:8080/",
          "height": 36
        },
        "id": "OIHLGguV5BSt",
        "outputId": "fb513a17-c077-434c-a2ed-d9959c9fdb48"
      },
      "execution_count": 65,
      "outputs": [
        {
          "output_type": "execute_result",
          "data": {
            "text/plain": [
              "'first name Uttam and last name Grade and the salary is 100'"
            ],
            "application/vnd.google.colaboratory.intrinsic+json": {
              "type": "string"
            }
          },
          "metadata": {},
          "execution_count": 65
        }
      ]
    },
    {
      "cell_type": "code",
      "source": [
        "emp2.fullname()"
      ],
      "metadata": {
        "colab": {
          "base_uri": "https://localhost:8080/",
          "height": 36
        },
        "id": "IGZ0BJMx5BUo",
        "outputId": "964a6524-c6a6-47e0-fc3c-60598a4b083b"
      },
      "execution_count": 66,
      "outputs": [
        {
          "output_type": "execute_result",
          "data": {
            "text/plain": [
              "'first name Dhanya and last name Uthappa and the salary is 200'"
            ],
            "application/vnd.google.colaboratory.intrinsic+json": {
              "type": "string"
            }
          },
          "metadata": {},
          "execution_count": 66
        }
      ]
    },
    {
      "cell_type": "code",
      "source": [
        "print(emp1.salary)\n"
      ],
      "metadata": {
        "colab": {
          "base_uri": "https://localhost:8080/"
        },
        "id": "d-lWZIg-7WfU",
        "outputId": "7703922d-b405-432f-c147-da3f378d8a7b"
      },
      "execution_count": 67,
      "outputs": [
        {
          "output_type": "stream",
          "name": "stdout",
          "text": [
            "100\n"
          ]
        }
      ]
    },
    {
      "cell_type": "code",
      "source": [
        "emp1.apply_value()\n",
        "\n"
      ],
      "metadata": {
        "id": "QvNKghUO7WjS"
      },
      "execution_count": 68,
      "outputs": []
    },
    {
      "cell_type": "code",
      "source": [
        "print(emp1.salary)"
      ],
      "metadata": {
        "colab": {
          "base_uri": "https://localhost:8080/"
        },
        "id": "ww6vNHJG7Wpk",
        "outputId": "0f9b8a7c-4233-4f02-b76f-4961853c4ca3"
      },
      "execution_count": 69,
      "outputs": [
        {
          "output_type": "stream",
          "name": "stdout",
          "text": [
            "20000\n"
          ]
        }
      ]
    },
    {
      "cell_type": "code",
      "source": [
        "## Pillars of Oops ##\n",
        "# Inheritance ( parent child relation )\n",
        "\n",
        "class employee:\n",
        "    num_employee=0\n",
        "    raise_amount=1.04\n",
        "    def __init__(self, first, last, sal):\n",
        "        self.first=first\n",
        "        self.last=last\n",
        "        self.sal=sal\n",
        "        self.email=first + '.' + last + '@company.com'\n",
        "        employee.num_employee+=1\n",
        "    def fullname (self):\n",
        "        return '{} {}'.format(self.first, self.last)\n",
        "    def apply_raise (self):\n",
        "        self.sal=int(self.sal * mul)\n",
        "\n",
        "        \n",
        "class developer(employee):   ################################ Inheritance ###\n",
        "  mul = 5.6\n",
        " \n",
        "emp_1=developer('aayushi', 'johari', 1000000)\n",
        "print(emp_1.mul)\n"
      ],
      "metadata": {
        "colab": {
          "base_uri": "https://localhost:8080/"
        },
        "id": "BUF7vnr87WuM",
        "outputId": "bdb922cb-479d-43c2-9e3c-ec9121fdcaa3"
      },
      "execution_count": 72,
      "outputs": [
        {
          "output_type": "stream",
          "name": "stdout",
          "text": [
            "5.6\n"
          ]
        }
      ]
    },
    {
      "cell_type": "code",
      "source": [
        "print(emp_1.sal)"
      ],
      "metadata": {
        "colab": {
          "base_uri": "https://localhost:8080/"
        },
        "id": "ACpUBPzdAxhZ",
        "outputId": "397096fc-559d-4b5d-c685-1ee188d856a9"
      },
      "execution_count": 74,
      "outputs": [
        {
          "output_type": "stream",
          "name": "stdout",
          "text": [
            "1000000\n"
          ]
        }
      ]
    },
    {
      "cell_type": "code",
      "source": [],
      "metadata": {
        "id": "Lgqyb1XjAxlx"
      },
      "execution_count": null,
      "outputs": []
    },
    {
      "cell_type": "code",
      "source": [],
      "metadata": {
        "id": "65sIzx1GAxov"
      },
      "execution_count": null,
      "outputs": []
    },
    {
      "cell_type": "code",
      "source": [],
      "metadata": {
        "id": "k7TLKrbwAxrn"
      },
      "execution_count": null,
      "outputs": []
    },
    {
      "cell_type": "code",
      "source": [],
      "metadata": {
        "id": "QMSmFM5LAxu8"
      },
      "execution_count": null,
      "outputs": []
    },
    {
      "cell_type": "code",
      "source": [],
      "metadata": {
        "id": "pyOhUcJeAxxD"
      },
      "execution_count": null,
      "outputs": []
    },
    {
      "cell_type": "code",
      "source": [],
      "metadata": {
        "id": "xNzLD62FAx0W"
      },
      "execution_count": null,
      "outputs": []
    },
    {
      "cell_type": "code",
      "source": [],
      "metadata": {
        "id": "kAxpb_0-Ax3S"
      },
      "execution_count": null,
      "outputs": []
    },
    {
      "cell_type": "code",
      "source": [],
      "metadata": {
        "id": "c6AdNUFgAx_K"
      },
      "execution_count": null,
      "outputs": []
    },
    {
      "cell_type": "code",
      "source": [],
      "metadata": {
        "id": "QerkiYfT7WxG"
      },
      "execution_count": 52,
      "outputs": []
    }
  ]
}