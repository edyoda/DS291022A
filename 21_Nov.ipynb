{
  "nbformat": 4,
  "nbformat_minor": 0,
  "metadata": {
    "colab": {
      "provenance": []
    },
    "kernelspec": {
      "name": "python3",
      "display_name": "Python 3"
    },
    "language_info": {
      "name": "python"
    }
  },
  "cells": [
    {
      "cell_type": "code",
      "execution_count": null,
      "metadata": {
        "id": "Qprp_Cu5hOSf"
      },
      "outputs": [],
      "source": [
        "######## SET AND DICTIONARY ############\n",
        "# Data Structure / Container\n",
        "# set , set, {}\n",
        "# Dict, dict, {}, key: value"
      ]
    },
    {
      "cell_type": "code",
      "source": [
        "s = {1,1,2,3,4}\n",
        "print(s)"
      ],
      "metadata": {
        "colab": {
          "base_uri": "https://localhost:8080/"
        },
        "id": "qjJ0K0v_hPYQ",
        "outputId": "0d834dbd-021a-4008-ecd2-04c3b990f78a"
      },
      "execution_count": 1,
      "outputs": [
        {
          "output_type": "stream",
          "name": "stdout",
          "text": [
            "{1, 2, 3, 4}\n"
          ]
        }
      ]
    },
    {
      "cell_type": "code",
      "source": [
        "s[0]"
      ],
      "metadata": {
        "colab": {
          "base_uri": "https://localhost:8080/",
          "height": 171
        },
        "id": "TcPC6PLshPa8",
        "outputId": "9d8f566f-49c2-47df-a7ca-dace2e609e3a"
      },
      "execution_count": 2,
      "outputs": [
        {
          "output_type": "error",
          "ename": "TypeError",
          "evalue": "ignored",
          "traceback": [
            "\u001b[0;31m---------------------------------------------------------------------------\u001b[0m",
            "\u001b[0;31mTypeError\u001b[0m                                 Traceback (most recent call last)",
            "\u001b[0;32m<ipython-input-2-c9c96910e542>\u001b[0m in \u001b[0;36m<module>\u001b[0;34m\u001b[0m\n\u001b[0;32m----> 1\u001b[0;31m \u001b[0ms\u001b[0m\u001b[0;34m[\u001b[0m\u001b[0;36m0\u001b[0m\u001b[0;34m]\u001b[0m\u001b[0;34m\u001b[0m\u001b[0;34m\u001b[0m\u001b[0m\n\u001b[0m",
            "\u001b[0;31mTypeError\u001b[0m: 'set' object is not subscriptable"
          ]
        }
      ]
    },
    {
      "cell_type": "code",
      "source": [
        "d = {1: 'Uttam',\n",
        "     2: 'Dhanya',\n",
        "     3: 'hema', \n",
        "     2: 'Nikhil'}"
      ],
      "metadata": {
        "id": "xDNmNQuwhPdl"
      },
      "execution_count": 5,
      "outputs": []
    },
    {
      "cell_type": "code",
      "source": [
        "d"
      ],
      "metadata": {
        "colab": {
          "base_uri": "https://localhost:8080/"
        },
        "id": "_7jBOvDrhPgL",
        "outputId": "706fa0f2-a9b8-4a6f-c0b5-17345373adcb"
      },
      "execution_count": 6,
      "outputs": [
        {
          "output_type": "execute_result",
          "data": {
            "text/plain": [
              "{1: 'Uttam', 2: 'Nikhil', 3: 'hema'}"
            ]
          },
          "metadata": {},
          "execution_count": 6
        }
      ]
    },
    {
      "cell_type": "code",
      "source": [
        "d[2]"
      ],
      "metadata": {
        "colab": {
          "base_uri": "https://localhost:8080/",
          "height": 36
        },
        "id": "GA0f93J8hPis",
        "outputId": "5de03bf3-9c1c-4179-c935-937802dfa2f6"
      },
      "execution_count": 9,
      "outputs": [
        {
          "output_type": "execute_result",
          "data": {
            "text/plain": [
              "'Nikhil'"
            ],
            "application/vnd.google.colaboratory.intrinsic+json": {
              "type": "string"
            }
          },
          "metadata": {},
          "execution_count": 9
        }
      ]
    },
    {
      "cell_type": "code",
      "source": [
        "# Delete a list of keys from a dictionary\n",
        "\n",
        "# sample_dict = {\n",
        "#     \"name\": \"Kelly\",\n",
        "#     \"age\": 25,\n",
        "#     \"salary\": 8000,\n",
        "#     \"city\": \"New york\"\n",
        "# }\n",
        "\n",
        "# # Keys to remove\n",
        "# keys = [\"name\", \"salary\"]"
      ],
      "metadata": {
        "id": "6me-UXhthPlp"
      },
      "execution_count": null,
      "outputs": []
    },
    {
      "cell_type": "code",
      "source": [
        "###################### LOCAL AND GLOBAL Variable ###############\n",
        "a = 'DhanyA'  # Global function(Inside or outside the function)\n",
        "def abc(x):\n",
        "  y = x + 'Machine Learning' + a # Local varialbe(Inside the fucntion only)\n",
        "  return y\n",
        "\n"
      ],
      "metadata": {
        "id": "SWQ1K7Mwlpv5"
      },
      "execution_count": 13,
      "outputs": []
    },
    {
      "cell_type": "code",
      "source": [
        "abc('Uttam')"
      ],
      "metadata": {
        "colab": {
          "base_uri": "https://localhost:8080/",
          "height": 36
        },
        "id": "XsdULOafoBcd",
        "outputId": "57d2df60-49b9-42ec-b4da-30ebf039b581"
      },
      "execution_count": 14,
      "outputs": [
        {
          "output_type": "execute_result",
          "data": {
            "text/plain": [
              "'UttamMachine LearningDhanyA'"
            ],
            "application/vnd.google.colaboratory.intrinsic+json": {
              "type": "string"
            }
          },
          "metadata": {},
          "execution_count": 14
        }
      ]
    },
    {
      "cell_type": "code",
      "source": [
        "a"
      ],
      "metadata": {
        "colab": {
          "base_uri": "https://localhost:8080/",
          "height": 36
        },
        "id": "1k7PFgC3oBfU",
        "outputId": "4b53d594-f6aa-4276-d25c-622d9746859d"
      },
      "execution_count": 15,
      "outputs": [
        {
          "output_type": "execute_result",
          "data": {
            "text/plain": [
              "'DhanyA'"
            ],
            "application/vnd.google.colaboratory.intrinsic+json": {
              "type": "string"
            }
          },
          "metadata": {},
          "execution_count": 15
        }
      ]
    },
    {
      "cell_type": "code",
      "source": [
        "x = 10\n",
        "y = 20\n",
        "z = 1100 # GLocal \n",
        "def new_sum(x, y):\n",
        "  Z = x + y - 5 + z # Local \n",
        "  return Z"
      ],
      "metadata": {
        "id": "V7TrP48SoBiW"
      },
      "execution_count": 21,
      "outputs": []
    },
    {
      "cell_type": "code",
      "source": [
        "new_sum(x, y)"
      ],
      "metadata": {
        "colab": {
          "base_uri": "https://localhost:8080/"
        },
        "id": "_1QcqN-0oBly",
        "outputId": "9081280d-b987-4394-c1b0-e25e0c4097a3"
      },
      "execution_count": 22,
      "outputs": [
        {
          "output_type": "execute_result",
          "data": {
            "text/plain": [
              "1125"
            ]
          },
          "metadata": {},
          "execution_count": 22
        }
      ]
    },
    {
      "cell_type": "code",
      "source": [
        "z"
      ],
      "metadata": {
        "colab": {
          "base_uri": "https://localhost:8080/"
        },
        "id": "N_Lm1TSpoBpo",
        "outputId": "afa8b006-fc0f-4e78-c6f9-3befc2662508"
      },
      "execution_count": 24,
      "outputs": [
        {
          "output_type": "execute_result",
          "data": {
            "text/plain": [
              "1100"
            ]
          },
          "metadata": {},
          "execution_count": 24
        }
      ]
    },
    {
      "cell_type": "code",
      "source": [
        "## Local Variable ( will use only inside the function )\n",
        "## Global Variable ( will use inside and outside the function )"
      ],
      "metadata": {
        "id": "7Bf3t46Xqkde"
      },
      "execution_count": null,
      "outputs": []
    },
    {
      "cell_type": "code",
      "source": [
        "## make a function which will divide by 2 the no. will be [20,30,40]\n",
        "M = 100 # GLobal\n",
        "def div_by_two(n):\n",
        "  print('New M', M)     \n",
        "  for i in n:\n",
        "    m = i/2   # local\n",
        "    print(m)\n",
        "print('Outside the fucntion',M)\n",
        "\n",
        "div_by_two([20,30,40])\n",
        "\n",
        "\n",
        "\n"
      ],
      "metadata": {
        "colab": {
          "base_uri": "https://localhost:8080/"
        },
        "id": "gUADYy3tlpzT",
        "outputId": "381cf24b-6b2b-4943-ecd1-89d372ed9450"
      },
      "execution_count": 31,
      "outputs": [
        {
          "output_type": "stream",
          "name": "stdout",
          "text": [
            "Outside the fucntion 100\n",
            "New M 100\n",
            "10.0\n",
            "15.0\n",
            "20.0\n"
          ]
        }
      ]
    },
    {
      "cell_type": "code",
      "source": [
        "m"
      ],
      "metadata": {
        "colab": {
          "base_uri": "https://localhost:8080/",
          "height": 171
        },
        "id": "AJQSi2O4lp14",
        "outputId": "dbff0a1f-ad08-4ac6-9c77-5b552aa08285"
      },
      "execution_count": 28,
      "outputs": [
        {
          "output_type": "error",
          "ename": "NameError",
          "evalue": "ignored",
          "traceback": [
            "\u001b[0;31m---------------------------------------------------------------------------\u001b[0m",
            "\u001b[0;31mNameError\u001b[0m                                 Traceback (most recent call last)",
            "\u001b[0;32m<ipython-input-28-9a40b379906c>\u001b[0m in \u001b[0;36m<module>\u001b[0;34m\u001b[0m\n\u001b[0;32m----> 1\u001b[0;31m \u001b[0mm\u001b[0m\u001b[0;34m\u001b[0m\u001b[0;34m\u001b[0m\u001b[0m\n\u001b[0m",
            "\u001b[0;31mNameError\u001b[0m: name 'm' is not defined"
          ]
        }
      ]
    },
    {
      "cell_type": "code",
      "source": [
        "def num():\n",
        "  global g\n",
        "  g = 'Uttam'\n",
        "  \n",
        "\n",
        "\n",
        "num()"
      ],
      "metadata": {
        "id": "7Hv0KFu9lp4o"
      },
      "execution_count": 55,
      "outputs": []
    },
    {
      "cell_type": "code",
      "source": [
        "g"
      ],
      "metadata": {
        "colab": {
          "base_uri": "https://localhost:8080/",
          "height": 36
        },
        "id": "HVzga6rFlp7R",
        "outputId": "409fbff8-938b-4298-9675-b3348cad2070"
      },
      "execution_count": 56,
      "outputs": [
        {
          "output_type": "execute_result",
          "data": {
            "text/plain": [
              "'Uttam'"
            ],
            "application/vnd.google.colaboratory.intrinsic+json": {
              "type": "string"
            }
          },
          "metadata": {},
          "execution_count": 56
        }
      ]
    },
    {
      "cell_type": "code",
      "source": [
        "g"
      ],
      "metadata": {
        "colab": {
          "base_uri": "https://localhost:8080/",
          "height": 171
        },
        "id": "1xrQag5Alp_b",
        "outputId": "734fd5b3-9eee-400a-ef55-29893e519de9"
      },
      "execution_count": 45,
      "outputs": [
        {
          "output_type": "error",
          "ename": "NameError",
          "evalue": "ignored",
          "traceback": [
            "\u001b[0;31m---------------------------------------------------------------------------\u001b[0m",
            "\u001b[0;31mNameError\u001b[0m                                 Traceback (most recent call last)",
            "\u001b[0;32m<ipython-input-45-a5938ace3f42>\u001b[0m in \u001b[0;36m<module>\u001b[0;34m\u001b[0m\n\u001b[0;32m----> 1\u001b[0;31m \u001b[0mg\u001b[0m\u001b[0;34m\u001b[0m\u001b[0;34m\u001b[0m\u001b[0m\n\u001b[0m",
            "\u001b[0;31mNameError\u001b[0m: name 'g' is not defined"
          ]
        }
      ]
    },
    {
      "cell_type": "code",
      "source": [
        "def fan():\n",
        "  global x\n",
        "  x = 'Machine Learning'\n",
        "\n",
        "\n"
      ],
      "metadata": {
        "id": "2G7N7XREhPoe"
      },
      "execution_count": 46,
      "outputs": []
    },
    {
      "cell_type": "code",
      "source": [
        "fan()"
      ],
      "metadata": {
        "id": "VaLafJVbv6wK"
      },
      "execution_count": 47,
      "outputs": []
    },
    {
      "cell_type": "code",
      "source": [
        "print(x)"
      ],
      "metadata": {
        "colab": {
          "base_uri": "https://localhost:8080/"
        },
        "id": "N6IVUpnMv6zb",
        "outputId": "56aa2c34-6834-4d3e-b607-cfc082a060f2"
      },
      "execution_count": 48,
      "outputs": [
        {
          "output_type": "stream",
          "name": "stdout",
          "text": [
            "Machine Learning\n"
          ]
        }
      ]
    },
    {
      "cell_type": "code",
      "source": [
        "#  Find the largest item from a given list\n",
        "# x = [4, 6, 8, 24, 12, 2]\n"
      ],
      "metadata": {
        "id": "jvFUI7ULv64I"
      },
      "execution_count": 58,
      "outputs": []
    },
    {
      "cell_type": "code",
      "source": [
        "#  Count the occurrence of each element from a list\n",
        "# sample_list = [11, 45, 8, 11, 23, 45, 23, 45, 89]\n",
        "def countX(lst, x):\n",
        "    return lst.count(x)\n",
        " \n",
        " \n",
        "\n",
        "lst = [11,45,8,11,23,45,23,45,89]\n",
        "x = 11\n",
        "print('{} has occurred {} times'.format(x,\n",
        "                                        countX(lst, x)))\n"
      ],
      "metadata": {
        "colab": {
          "base_uri": "https://localhost:8080/"
        },
        "id": "UfgzkVwpv68H",
        "outputId": "bbff56ce-8cc2-4882-f57f-a9cca0a07d1a"
      },
      "execution_count": 61,
      "outputs": [
        {
          "output_type": "stream",
          "name": "stdout",
          "text": [
            "11 has occurred 2 times\n"
          ]
        }
      ]
    },
    {
      "cell_type": "code",
      "source": [
        "# Iterate a given list and check if a given element exists as a key’s value in a dictionary. \n",
        "# If not, delete it from the list\n",
        "\n",
        "\n",
        "# Given:\n",
        "\n",
        "# roll_number = [47, 64, 69, 37, 76, 83, 95, 97]\n",
        "# sample_dict = {'Jhon':47, 'Emma':69, 'Kelly':76, 'Jason':97}\n",
        "\n",
        "roll_number = [47, 64, 69, 37, 76, 83, 95, 97]\n",
        "sample_dict = {'Jhon':47, 'Emma':69, 'Kelly':76, 'Jason':97}\n",
        "for i in roll_number:\n",
        "    if not i in sample_dict.values():\n",
        "        roll_number.remove(i)\n",
        "print(roll_number)\n"
      ],
      "metadata": {
        "colab": {
          "base_uri": "https://localhost:8080/"
        },
        "id": "Y2fAjeF2v6_K",
        "outputId": "5caa1207-eefa-49e5-976c-5eaa56a63106"
      },
      "execution_count": 62,
      "outputs": [
        {
          "output_type": "stream",
          "name": "stdout",
          "text": [
            "[47, 69, 76, 95, 97]\n"
          ]
        }
      ]
    },
    {
      "cell_type": "code",
      "source": [
        "#Get all values from the dictionary and add them to a list but don’t add duplicates\n",
        "# speed = {'jan': 47, 'feb': 52, 'march': 47, 'April': 44, 'May': 52, 'June': 53, 'july': 54, 'Aug': 44, 'Sept': 54}\n"
      ],
      "metadata": {
        "id": "O1wb4zsKv7CA"
      },
      "execution_count": null,
      "outputs": []
    },
    {
      "cell_type": "code",
      "source": [
        "s=[11,45,8,11,23,45,45,23,89]\n",
        "b=set(s)\n",
        "for i in b:\n",
        "    x=s.count(i)\n",
        "\n",
        "    print(\"{}:{}\".format(i,x))\n"
      ],
      "metadata": {
        "colab": {
          "base_uri": "https://localhost:8080/"
        },
        "id": "IFyaWd8dv7FW",
        "outputId": "eedae19c-7947-4bdd-eaed-d7fa72a432fd"
      },
      "execution_count": 68,
      "outputs": [
        {
          "output_type": "stream",
          "name": "stdout",
          "text": [
            "8:1\n",
            "11:2\n",
            "45:3\n",
            "23:2\n",
            "89:1\n",
            "{8, 11, 45, 23, 89}\n"
          ]
        }
      ]
    },
    {
      "cell_type": "code",
      "source": [
        "s = [11, 45, 8, 11, 23, 45, 23, 45, 23, 45, 89]\n",
        "for i in s:\n",
        "  print(i, s.count(i))\n"
      ],
      "metadata": {
        "colab": {
          "base_uri": "https://localhost:8080/"
        },
        "id": "OF9WjCwHhPrF",
        "outputId": "d86056d2-f2bc-4a10-81fa-bbf7b6279742"
      },
      "execution_count": 67,
      "outputs": [
        {
          "output_type": "stream",
          "name": "stdout",
          "text": [
            "11 2\n",
            "45 4\n",
            "8 1\n",
            "11 2\n",
            "23 3\n",
            "45 4\n",
            "23 3\n",
            "45 4\n",
            "23 3\n",
            "45 4\n",
            "89 1\n"
          ]
        }
      ]
    },
    {
      "cell_type": "code",
      "source": [
        "# Write a Python program to get a list, sorted in increasing order by the last element in each tuple \n",
        "#from a given list of non-empty tuples\n",
        "\n",
        "# Sample List : [(2, 5), (1, 2), (4, 4), (2, 3), (2, 1)]\n",
        "\n",
        "# Expected Result : [(2, 1), (1, 2), (2, 3), (4, 4), (2, 5)]\n"
      ],
      "metadata": {
        "id": "9kDTO1yohPt5"
      },
      "execution_count": null,
      "outputs": []
    },
    {
      "cell_type": "code",
      "source": [],
      "metadata": {
        "id": "mqHgqPfuhPwq"
      },
      "execution_count": null,
      "outputs": []
    }
  ]
}