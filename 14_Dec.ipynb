{
  "nbformat": 4,
  "nbformat_minor": 0,
  "metadata": {
    "colab": {
      "provenance": []
    },
    "kernelspec": {
      "name": "python3",
      "display_name": "Python 3"
    },
    "language_info": {
      "name": "python"
    }
  },
  "cells": [
    {
      "cell_type": "code",
      "execution_count": null,
      "metadata": {
        "id": "B0c3anqz9sLn"
      },
      "outputs": [],
      "source": [
        "# Try Catch method \n",
        "# generators "
      ]
    },
    {
      "cell_type": "code",
      "source": [
        "# Assert it will check the true(boolean)"
      ],
      "metadata": {
        "id": "xEqe7Zhh9s0m"
      },
      "execution_count": null,
      "outputs": []
    },
    {
      "cell_type": "code",
      "source": [
        "def square(x):\n",
        "  assert x >= 0, 'Please check the value'\n",
        "  return x*x\n",
        "\n",
        "square(3)"
      ],
      "metadata": {
        "colab": {
          "base_uri": "https://localhost:8080/"
        },
        "id": "k_qFgjY99s4d",
        "outputId": "daa39214-0ef1-4a6d-9f1c-721749173c2f"
      },
      "execution_count": null,
      "outputs": [
        {
          "output_type": "execute_result",
          "data": {
            "text/plain": [
              "9"
            ]
          },
          "metadata": {},
          "execution_count": 5
        }
      ]
    },
    {
      "cell_type": "code",
      "source": [
        "def square(x):\n",
        "  if x >= 0:\n",
        "    print('No Error')\n",
        "  else:\n",
        "    print('There is an error')\n",
        "  return x*x\n",
        "\n",
        "square(-3)"
      ],
      "metadata": {
        "colab": {
          "base_uri": "https://localhost:8080/"
        },
        "id": "pRkCNGU09s7C",
        "outputId": "8d5e21f5-9189-4d46-d098-ce5ba5411c4a"
      },
      "execution_count": null,
      "outputs": [
        {
          "output_type": "stream",
          "name": "stdout",
          "text": [
            "There is an error\n"
          ]
        },
        {
          "output_type": "execute_result",
          "data": {
            "text/plain": [
              "9"
            ]
          },
          "metadata": {},
          "execution_count": 9
        }
      ]
    },
    {
      "cell_type": "code",
      "source": [
        "################ How to read csv(comma seperated), excel, xml(html), json(java script object notation)(dictioanry format)key: value(take less memory and stores large data inside it)\n",
        "import pandas as pd # processing, precessing, manipulation(collction, read)\n",
        "df = pd.read_xml('/content/xml_file.xml')\n",
        "df\n"
      ],
      "metadata": {
        "colab": {
          "base_uri": "https://localhost:8080/",
          "height": 426
        },
        "id": "iH8CS5569s94",
        "outputId": "a39d2364-465b-43e9-8771-f674a2671e4c"
      },
      "execution_count": null,
      "outputs": [
        {
          "output_type": "execute_result",
          "data": {
            "text/plain": [
              "       id                author                                   title  \\\n",
              "0   bk101  Gambardella, Matthew                   XML Developer's Guide   \n",
              "1   bk102            Ralls, Kim                           Midnight Rain   \n",
              "2   bk103           Corets, Eva                         Maeve Ascendant   \n",
              "3   bk104           Corets, Eva                         Oberon's Legacy   \n",
              "4   bk105           Corets, Eva                      The Sundered Grail   \n",
              "5   bk106      Randall, Cynthia                             Lover Birds   \n",
              "6   bk107        Thurman, Paula                           Splish Splash   \n",
              "7   bk108         Knorr, Stefan                         Creepy Crawlies   \n",
              "8   bk109          Kress, Peter                            Paradox Lost   \n",
              "9   bk110          O'Brien, Tim   Microsoft .NET: The Programming Bible   \n",
              "10  bk111          O'Brien, Tim           MSXML3: A Comprehensive Guide   \n",
              "11  bk112           Galos, Mike  Visual Studio 7: A Comprehensive Guide   \n",
              "\n",
              "              genre  price publish_date  \\\n",
              "0          Computer  44.95   2000-10-01   \n",
              "1           Fantasy   5.95   2000-12-16   \n",
              "2           Fantasy   5.95   2000-11-17   \n",
              "3           Fantasy   5.95   2001-03-10   \n",
              "4           Fantasy   5.95   2001-09-10   \n",
              "5           Romance   4.95   2000-09-02   \n",
              "6           Romance   4.95   2000-11-02   \n",
              "7            Horror   4.95   2000-12-06   \n",
              "8   Science Fiction   6.95   2000-11-02   \n",
              "9          Computer  36.95   2000-12-09   \n",
              "10         Computer  36.95   2000-12-01   \n",
              "11         Computer  49.95   2001-04-16   \n",
              "\n",
              "                                          description  \n",
              "0   An in-depth look at creating applications \\n  ...  \n",
              "1   A former architect battles corporate zombies, ...  \n",
              "2   After the collapse of a nanotechnology \\n     ...  \n",
              "3   In post-apocalypse England, the mysterious \\n ...  \n",
              "4   The two daughters of Maeve, half-sisters, \\n  ...  \n",
              "5   When Carla meets Paul at an ornithology \\n    ...  \n",
              "6   A deep sea diver finds true love twenty \\n    ...  \n",
              "7   An anthology of horror stories about roaches,\\...  \n",
              "8   After an inadvertant trip through a Heisenberg...  \n",
              "9   Microsoft's .NET initiative is explored in \\n ...  \n",
              "10  The Microsoft MSXML3 parser is covered in \\n  ...  \n",
              "11  Microsoft Visual Studio 7 is explored in depth...  "
            ],
            "text/html": [
              "\n",
              "  <div id=\"df-b4985401-d3f6-439f-9fd4-e4bab899784d\">\n",
              "    <div class=\"colab-df-container\">\n",
              "      <div>\n",
              "<style scoped>\n",
              "    .dataframe tbody tr th:only-of-type {\n",
              "        vertical-align: middle;\n",
              "    }\n",
              "\n",
              "    .dataframe tbody tr th {\n",
              "        vertical-align: top;\n",
              "    }\n",
              "\n",
              "    .dataframe thead th {\n",
              "        text-align: right;\n",
              "    }\n",
              "</style>\n",
              "<table border=\"1\" class=\"dataframe\">\n",
              "  <thead>\n",
              "    <tr style=\"text-align: right;\">\n",
              "      <th></th>\n",
              "      <th>id</th>\n",
              "      <th>author</th>\n",
              "      <th>title</th>\n",
              "      <th>genre</th>\n",
              "      <th>price</th>\n",
              "      <th>publish_date</th>\n",
              "      <th>description</th>\n",
              "    </tr>\n",
              "  </thead>\n",
              "  <tbody>\n",
              "    <tr>\n",
              "      <th>0</th>\n",
              "      <td>bk101</td>\n",
              "      <td>Gambardella, Matthew</td>\n",
              "      <td>XML Developer's Guide</td>\n",
              "      <td>Computer</td>\n",
              "      <td>44.95</td>\n",
              "      <td>2000-10-01</td>\n",
              "      <td>An in-depth look at creating applications \\n  ...</td>\n",
              "    </tr>\n",
              "    <tr>\n",
              "      <th>1</th>\n",
              "      <td>bk102</td>\n",
              "      <td>Ralls, Kim</td>\n",
              "      <td>Midnight Rain</td>\n",
              "      <td>Fantasy</td>\n",
              "      <td>5.95</td>\n",
              "      <td>2000-12-16</td>\n",
              "      <td>A former architect battles corporate zombies, ...</td>\n",
              "    </tr>\n",
              "    <tr>\n",
              "      <th>2</th>\n",
              "      <td>bk103</td>\n",
              "      <td>Corets, Eva</td>\n",
              "      <td>Maeve Ascendant</td>\n",
              "      <td>Fantasy</td>\n",
              "      <td>5.95</td>\n",
              "      <td>2000-11-17</td>\n",
              "      <td>After the collapse of a nanotechnology \\n     ...</td>\n",
              "    </tr>\n",
              "    <tr>\n",
              "      <th>3</th>\n",
              "      <td>bk104</td>\n",
              "      <td>Corets, Eva</td>\n",
              "      <td>Oberon's Legacy</td>\n",
              "      <td>Fantasy</td>\n",
              "      <td>5.95</td>\n",
              "      <td>2001-03-10</td>\n",
              "      <td>In post-apocalypse England, the mysterious \\n ...</td>\n",
              "    </tr>\n",
              "    <tr>\n",
              "      <th>4</th>\n",
              "      <td>bk105</td>\n",
              "      <td>Corets, Eva</td>\n",
              "      <td>The Sundered Grail</td>\n",
              "      <td>Fantasy</td>\n",
              "      <td>5.95</td>\n",
              "      <td>2001-09-10</td>\n",
              "      <td>The two daughters of Maeve, half-sisters, \\n  ...</td>\n",
              "    </tr>\n",
              "    <tr>\n",
              "      <th>5</th>\n",
              "      <td>bk106</td>\n",
              "      <td>Randall, Cynthia</td>\n",
              "      <td>Lover Birds</td>\n",
              "      <td>Romance</td>\n",
              "      <td>4.95</td>\n",
              "      <td>2000-09-02</td>\n",
              "      <td>When Carla meets Paul at an ornithology \\n    ...</td>\n",
              "    </tr>\n",
              "    <tr>\n",
              "      <th>6</th>\n",
              "      <td>bk107</td>\n",
              "      <td>Thurman, Paula</td>\n",
              "      <td>Splish Splash</td>\n",
              "      <td>Romance</td>\n",
              "      <td>4.95</td>\n",
              "      <td>2000-11-02</td>\n",
              "      <td>A deep sea diver finds true love twenty \\n    ...</td>\n",
              "    </tr>\n",
              "    <tr>\n",
              "      <th>7</th>\n",
              "      <td>bk108</td>\n",
              "      <td>Knorr, Stefan</td>\n",
              "      <td>Creepy Crawlies</td>\n",
              "      <td>Horror</td>\n",
              "      <td>4.95</td>\n",
              "      <td>2000-12-06</td>\n",
              "      <td>An anthology of horror stories about roaches,\\...</td>\n",
              "    </tr>\n",
              "    <tr>\n",
              "      <th>8</th>\n",
              "      <td>bk109</td>\n",
              "      <td>Kress, Peter</td>\n",
              "      <td>Paradox Lost</td>\n",
              "      <td>Science Fiction</td>\n",
              "      <td>6.95</td>\n",
              "      <td>2000-11-02</td>\n",
              "      <td>After an inadvertant trip through a Heisenberg...</td>\n",
              "    </tr>\n",
              "    <tr>\n",
              "      <th>9</th>\n",
              "      <td>bk110</td>\n",
              "      <td>O'Brien, Tim</td>\n",
              "      <td>Microsoft .NET: The Programming Bible</td>\n",
              "      <td>Computer</td>\n",
              "      <td>36.95</td>\n",
              "      <td>2000-12-09</td>\n",
              "      <td>Microsoft's .NET initiative is explored in \\n ...</td>\n",
              "    </tr>\n",
              "    <tr>\n",
              "      <th>10</th>\n",
              "      <td>bk111</td>\n",
              "      <td>O'Brien, Tim</td>\n",
              "      <td>MSXML3: A Comprehensive Guide</td>\n",
              "      <td>Computer</td>\n",
              "      <td>36.95</td>\n",
              "      <td>2000-12-01</td>\n",
              "      <td>The Microsoft MSXML3 parser is covered in \\n  ...</td>\n",
              "    </tr>\n",
              "    <tr>\n",
              "      <th>11</th>\n",
              "      <td>bk112</td>\n",
              "      <td>Galos, Mike</td>\n",
              "      <td>Visual Studio 7: A Comprehensive Guide</td>\n",
              "      <td>Computer</td>\n",
              "      <td>49.95</td>\n",
              "      <td>2001-04-16</td>\n",
              "      <td>Microsoft Visual Studio 7 is explored in depth...</td>\n",
              "    </tr>\n",
              "  </tbody>\n",
              "</table>\n",
              "</div>\n",
              "      <button class=\"colab-df-convert\" onclick=\"convertToInteractive('df-b4985401-d3f6-439f-9fd4-e4bab899784d')\"\n",
              "              title=\"Convert this dataframe to an interactive table.\"\n",
              "              style=\"display:none;\">\n",
              "        \n",
              "  <svg xmlns=\"http://www.w3.org/2000/svg\" height=\"24px\"viewBox=\"0 0 24 24\"\n",
              "       width=\"24px\">\n",
              "    <path d=\"M0 0h24v24H0V0z\" fill=\"none\"/>\n",
              "    <path d=\"M18.56 5.44l.94 2.06.94-2.06 2.06-.94-2.06-.94-.94-2.06-.94 2.06-2.06.94zm-11 1L8.5 8.5l.94-2.06 2.06-.94-2.06-.94L8.5 2.5l-.94 2.06-2.06.94zm10 10l.94 2.06.94-2.06 2.06-.94-2.06-.94-.94-2.06-.94 2.06-2.06.94z\"/><path d=\"M17.41 7.96l-1.37-1.37c-.4-.4-.92-.59-1.43-.59-.52 0-1.04.2-1.43.59L10.3 9.45l-7.72 7.72c-.78.78-.78 2.05 0 2.83L4 21.41c.39.39.9.59 1.41.59.51 0 1.02-.2 1.41-.59l7.78-7.78 2.81-2.81c.8-.78.8-2.07 0-2.86zM5.41 20L4 18.59l7.72-7.72 1.47 1.35L5.41 20z\"/>\n",
              "  </svg>\n",
              "      </button>\n",
              "      \n",
              "  <style>\n",
              "    .colab-df-container {\n",
              "      display:flex;\n",
              "      flex-wrap:wrap;\n",
              "      gap: 12px;\n",
              "    }\n",
              "\n",
              "    .colab-df-convert {\n",
              "      background-color: #E8F0FE;\n",
              "      border: none;\n",
              "      border-radius: 50%;\n",
              "      cursor: pointer;\n",
              "      display: none;\n",
              "      fill: #1967D2;\n",
              "      height: 32px;\n",
              "      padding: 0 0 0 0;\n",
              "      width: 32px;\n",
              "    }\n",
              "\n",
              "    .colab-df-convert:hover {\n",
              "      background-color: #E2EBFA;\n",
              "      box-shadow: 0px 1px 2px rgba(60, 64, 67, 0.3), 0px 1px 3px 1px rgba(60, 64, 67, 0.15);\n",
              "      fill: #174EA6;\n",
              "    }\n",
              "\n",
              "    [theme=dark] .colab-df-convert {\n",
              "      background-color: #3B4455;\n",
              "      fill: #D2E3FC;\n",
              "    }\n",
              "\n",
              "    [theme=dark] .colab-df-convert:hover {\n",
              "      background-color: #434B5C;\n",
              "      box-shadow: 0px 1px 3px 1px rgba(0, 0, 0, 0.15);\n",
              "      filter: drop-shadow(0px 1px 2px rgba(0, 0, 0, 0.3));\n",
              "      fill: #FFFFFF;\n",
              "    }\n",
              "  </style>\n",
              "\n",
              "      <script>\n",
              "        const buttonEl =\n",
              "          document.querySelector('#df-b4985401-d3f6-439f-9fd4-e4bab899784d button.colab-df-convert');\n",
              "        buttonEl.style.display =\n",
              "          google.colab.kernel.accessAllowed ? 'block' : 'none';\n",
              "\n",
              "        async function convertToInteractive(key) {\n",
              "          const element = document.querySelector('#df-b4985401-d3f6-439f-9fd4-e4bab899784d');\n",
              "          const dataTable =\n",
              "            await google.colab.kernel.invokeFunction('convertToInteractive',\n",
              "                                                     [key], {});\n",
              "          if (!dataTable) return;\n",
              "\n",
              "          const docLinkHtml = 'Like what you see? Visit the ' +\n",
              "            '<a target=\"_blank\" href=https://colab.research.google.com/notebooks/data_table.ipynb>data table notebook</a>'\n",
              "            + ' to learn more about interactive tables.';\n",
              "          element.innerHTML = '';\n",
              "          dataTable['output_type'] = 'display_data';\n",
              "          await google.colab.output.renderOutput(dataTable, element);\n",
              "          const docLink = document.createElement('div');\n",
              "          docLink.innerHTML = docLinkHtml;\n",
              "          element.appendChild(docLink);\n",
              "        }\n",
              "      </script>\n",
              "    </div>\n",
              "  </div>\n",
              "  "
            ]
          },
          "metadata": {},
          "execution_count": 11
        }
      ]
    },
    {
      "cell_type": "code",
      "source": [
        "json = pd.read_json('/content/example_2.json')\n",
        "json"
      ],
      "metadata": {
        "colab": {
          "base_uri": "https://localhost:8080/",
          "height": 112
        },
        "id": "70FcZmn79tC-",
        "outputId": "5babbeb8-388f-43d6-cbf5-42a7be3398c2"
      },
      "execution_count": null,
      "outputs": [
        {
          "output_type": "execute_result",
          "data": {
            "text/plain": [
              "                                                    quiz\n",
              "maths  {'q1': {'question': '5 + 7 = ?', 'options': ['...\n",
              "sport  {'q1': {'question': 'Which one is correct team..."
            ],
            "text/html": [
              "\n",
              "  <div id=\"df-f522d519-41ed-4d66-a55b-cad5c09bcc69\">\n",
              "    <div class=\"colab-df-container\">\n",
              "      <div>\n",
              "<style scoped>\n",
              "    .dataframe tbody tr th:only-of-type {\n",
              "        vertical-align: middle;\n",
              "    }\n",
              "\n",
              "    .dataframe tbody tr th {\n",
              "        vertical-align: top;\n",
              "    }\n",
              "\n",
              "    .dataframe thead th {\n",
              "        text-align: right;\n",
              "    }\n",
              "</style>\n",
              "<table border=\"1\" class=\"dataframe\">\n",
              "  <thead>\n",
              "    <tr style=\"text-align: right;\">\n",
              "      <th></th>\n",
              "      <th>quiz</th>\n",
              "    </tr>\n",
              "  </thead>\n",
              "  <tbody>\n",
              "    <tr>\n",
              "      <th>maths</th>\n",
              "      <td>{'q1': {'question': '5 + 7 = ?', 'options': ['...</td>\n",
              "    </tr>\n",
              "    <tr>\n",
              "      <th>sport</th>\n",
              "      <td>{'q1': {'question': 'Which one is correct team...</td>\n",
              "    </tr>\n",
              "  </tbody>\n",
              "</table>\n",
              "</div>\n",
              "      <button class=\"colab-df-convert\" onclick=\"convertToInteractive('df-f522d519-41ed-4d66-a55b-cad5c09bcc69')\"\n",
              "              title=\"Convert this dataframe to an interactive table.\"\n",
              "              style=\"display:none;\">\n",
              "        \n",
              "  <svg xmlns=\"http://www.w3.org/2000/svg\" height=\"24px\"viewBox=\"0 0 24 24\"\n",
              "       width=\"24px\">\n",
              "    <path d=\"M0 0h24v24H0V0z\" fill=\"none\"/>\n",
              "    <path d=\"M18.56 5.44l.94 2.06.94-2.06 2.06-.94-2.06-.94-.94-2.06-.94 2.06-2.06.94zm-11 1L8.5 8.5l.94-2.06 2.06-.94-2.06-.94L8.5 2.5l-.94 2.06-2.06.94zm10 10l.94 2.06.94-2.06 2.06-.94-2.06-.94-.94-2.06-.94 2.06-2.06.94z\"/><path d=\"M17.41 7.96l-1.37-1.37c-.4-.4-.92-.59-1.43-.59-.52 0-1.04.2-1.43.59L10.3 9.45l-7.72 7.72c-.78.78-.78 2.05 0 2.83L4 21.41c.39.39.9.59 1.41.59.51 0 1.02-.2 1.41-.59l7.78-7.78 2.81-2.81c.8-.78.8-2.07 0-2.86zM5.41 20L4 18.59l7.72-7.72 1.47 1.35L5.41 20z\"/>\n",
              "  </svg>\n",
              "      </button>\n",
              "      \n",
              "  <style>\n",
              "    .colab-df-container {\n",
              "      display:flex;\n",
              "      flex-wrap:wrap;\n",
              "      gap: 12px;\n",
              "    }\n",
              "\n",
              "    .colab-df-convert {\n",
              "      background-color: #E8F0FE;\n",
              "      border: none;\n",
              "      border-radius: 50%;\n",
              "      cursor: pointer;\n",
              "      display: none;\n",
              "      fill: #1967D2;\n",
              "      height: 32px;\n",
              "      padding: 0 0 0 0;\n",
              "      width: 32px;\n",
              "    }\n",
              "\n",
              "    .colab-df-convert:hover {\n",
              "      background-color: #E2EBFA;\n",
              "      box-shadow: 0px 1px 2px rgba(60, 64, 67, 0.3), 0px 1px 3px 1px rgba(60, 64, 67, 0.15);\n",
              "      fill: #174EA6;\n",
              "    }\n",
              "\n",
              "    [theme=dark] .colab-df-convert {\n",
              "      background-color: #3B4455;\n",
              "      fill: #D2E3FC;\n",
              "    }\n",
              "\n",
              "    [theme=dark] .colab-df-convert:hover {\n",
              "      background-color: #434B5C;\n",
              "      box-shadow: 0px 1px 3px 1px rgba(0, 0, 0, 0.15);\n",
              "      filter: drop-shadow(0px 1px 2px rgba(0, 0, 0, 0.3));\n",
              "      fill: #FFFFFF;\n",
              "    }\n",
              "  </style>\n",
              "\n",
              "      <script>\n",
              "        const buttonEl =\n",
              "          document.querySelector('#df-f522d519-41ed-4d66-a55b-cad5c09bcc69 button.colab-df-convert');\n",
              "        buttonEl.style.display =\n",
              "          google.colab.kernel.accessAllowed ? 'block' : 'none';\n",
              "\n",
              "        async function convertToInteractive(key) {\n",
              "          const element = document.querySelector('#df-f522d519-41ed-4d66-a55b-cad5c09bcc69');\n",
              "          const dataTable =\n",
              "            await google.colab.kernel.invokeFunction('convertToInteractive',\n",
              "                                                     [key], {});\n",
              "          if (!dataTable) return;\n",
              "\n",
              "          const docLinkHtml = 'Like what you see? Visit the ' +\n",
              "            '<a target=\"_blank\" href=https://colab.research.google.com/notebooks/data_table.ipynb>data table notebook</a>'\n",
              "            + ' to learn more about interactive tables.';\n",
              "          element.innerHTML = '';\n",
              "          dataTable['output_type'] = 'display_data';\n",
              "          await google.colab.output.renderOutput(dataTable, element);\n",
              "          const docLink = document.createElement('div');\n",
              "          docLink.innerHTML = docLinkHtml;\n",
              "          element.appendChild(docLink);\n",
              "        }\n",
              "      </script>\n",
              "    </div>\n",
              "  </div>\n",
              "  "
            ]
          },
          "metadata": {},
          "execution_count": 14
        }
      ]
    },
    {
      "cell_type": "code",
      "source": [
        "with open('/content/xml_file.xml', \"r\") as f:\n",
        "  data = f.read()\n"
      ],
      "metadata": {
        "id": "fvrGboIP9tG0"
      },
      "execution_count": null,
      "outputs": []
    },
    {
      "cell_type": "code",
      "source": [
        "data"
      ],
      "metadata": {
        "colab": {
          "base_uri": "https://localhost:8080/",
          "height": 109
        },
        "id": "9n9u3xwk9tJy",
        "outputId": "ba442b60-e074-47cf-f498-aff1049a727d"
      },
      "execution_count": null,
      "outputs": [
        {
          "output_type": "execute_result",
          "data": {
            "text/plain": [
              "'<?xml version=\"1.0\"?>\\n<catalog>\\n   <book id=\"bk101\">\\n      <author>Gambardella, Matthew</author>\\n      <title>XML Developer\\'s Guide</title>\\n      <genre>Computer</genre>\\n      <price>44.95</price>\\n      <publish_date>2000-10-01</publish_date>\\n      <description>An in-depth look at creating applications \\n      with XML.</description>\\n   </book>\\n   <book id=\"bk102\">\\n      <author>Ralls, Kim</author>\\n      <title>Midnight Rain</title>\\n      <genre>Fantasy</genre>\\n      <price>5.95</price>\\n      <publish_date>2000-12-16</publish_date>\\n      <description>A former architect battles corporate zombies, \\n      an evil sorceress, and her own childhood to become queen \\n      of the world.</description>\\n   </book>\\n   <book id=\"bk103\">\\n      <author>Corets, Eva</author>\\n      <title>Maeve Ascendant</title>\\n      <genre>Fantasy</genre>\\n      <price>5.95</price>\\n      <publish_date>2000-11-17</publish_date>\\n      <description>After the collapse of a nanotechnology \\n      society in England, the young survivors lay the \\n      foundation for a new society.</description>\\n   </book>\\n   <book id=\"bk104\">\\n      <author>Corets, Eva</author>\\n      <title>Oberon\\'s Legacy</title>\\n      <genre>Fantasy</genre>\\n      <price>5.95</price>\\n      <publish_date>2001-03-10</publish_date>\\n      <description>In post-apocalypse England, the mysterious \\n      agent known only as Oberon helps to create a new life \\n      for the inhabitants of London. Sequel to Maeve \\n      Ascendant.</description>\\n   </book>\\n   <book id=\"bk105\">\\n      <author>Corets, Eva</author>\\n      <title>The Sundered Grail</title>\\n      <genre>Fantasy</genre>\\n      <price>5.95</price>\\n      <publish_date>2001-09-10</publish_date>\\n      <description>The two daughters of Maeve, half-sisters, \\n      battle one another for control of England. Sequel to \\n      Oberon\\'s Legacy.</description>\\n   </book>\\n   <book id=\"bk106\">\\n      <author>Randall, Cynthia</author>\\n      <title>Lover Birds</title>\\n      <genre>Romance</genre>\\n      <price>4.95</price>\\n      <publish_date>2000-09-02</publish_date>\\n      <description>When Carla meets Paul at an ornithology \\n      conference, tempers fly as feathers get ruffled.</description>\\n   </book>\\n   <book id=\"bk107\">\\n      <author>Thurman, Paula</author>\\n      <title>Splish Splash</title>\\n      <genre>Romance</genre>\\n      <price>4.95</price>\\n      <publish_date>2000-11-02</publish_date>\\n      <description>A deep sea diver finds true love twenty \\n      thousand leagues beneath the sea.</description>\\n   </book>\\n   <book id=\"bk108\">\\n      <author>Knorr, Stefan</author>\\n      <title>Creepy Crawlies</title>\\n      <genre>Horror</genre>\\n      <price>4.95</price>\\n      <publish_date>2000-12-06</publish_date>\\n      <description>An anthology of horror stories about roaches,\\n      centipedes, scorpions  and other insects.</description>\\n   </book>\\n   <book id=\"bk109\">\\n      <author>Kress, Peter</author>\\n      <title>Paradox Lost</title>\\n      <genre>Science Fiction</genre>\\n      <price>6.95</price>\\n      <publish_date>2000-11-02</publish_date>\\n      <description>After an inadvertant trip through a Heisenberg\\n      Uncertainty Device, James Salway discovers the problems \\n      of being quantum.</description>\\n   </book>\\n   <book id=\"bk110\">\\n      <author>O\\'Brien, Tim</author>\\n      <title>Microsoft .NET: The Programming Bible</title>\\n      <genre>Computer</genre>\\n      <price>36.95</price>\\n      <publish_date>2000-12-09</publish_date>\\n      <description>Microsoft\\'s .NET initiative is explored in \\n      detail in this deep programmer\\'s reference.</description>\\n   </book>\\n   <book id=\"bk111\">\\n      <author>O\\'Brien, Tim</author>\\n      <title>MSXML3: A Comprehensive Guide</title>\\n      <genre>Computer</genre>\\n      <price>36.95</price>\\n      <publish_date>2000-12-01</publish_date>\\n      <description>The Microsoft MSXML3 parser is covered in \\n      detail, with attention to XML DOM interfaces, XSLT processing, \\n      SAX and more.</description>\\n   </book>\\n   <book id=\"bk112\">\\n      <author>Galos, Mike</author>\\n      <title>Visual Studio 7: A Comprehensive Guide</title>\\n      <genre>Computer</genre>\\n      <price>49.95</price>\\n      <publish_date>2001-04-16</publish_date>\\n      <description>Microsoft Visual Studio 7 is explored in depth,\\n      looking at how Visual Basic, Visual C++, C#, and ASP+ are \\n      integrated into a comprehensive development \\n      environment.</description>\\n   </book>\\n</catalog>'"
            ],
            "application/vnd.google.colaboratory.intrinsic+json": {
              "type": "string"
            }
          },
          "metadata": {},
          "execution_count": 17
        }
      ]
    },
    {
      "cell_type": "code",
      "source": [
        "# csv, encoding = 'utf-128'"
      ],
      "metadata": {
        "id": "6wRBrssj9tNP"
      },
      "execution_count": null,
      "outputs": []
    },
    {
      "cell_type": "code",
      "source": [],
      "metadata": {
        "id": "gnzo50OK9tRe"
      },
      "execution_count": null,
      "outputs": []
    },
    {
      "cell_type": "code",
      "source": [],
      "metadata": {
        "id": "1v6wfRJX9tUV"
      },
      "execution_count": null,
      "outputs": []
    },
    {
      "cell_type": "code",
      "source": [],
      "metadata": {
        "id": "vfGFirPJ9tXJ"
      },
      "execution_count": null,
      "outputs": []
    },
    {
      "cell_type": "code",
      "source": [],
      "metadata": {
        "id": "Y1LRHl-99tbV"
      },
      "execution_count": null,
      "outputs": []
    }
  ]
}