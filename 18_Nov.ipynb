{
  "nbformat": 4,
  "nbformat_minor": 0,
  "metadata": {
    "colab": {
      "provenance": []
    },
    "kernelspec": {
      "name": "python3",
      "display_name": "Python 3"
    },
    "language_info": {
      "name": "python"
    }
  },
  "cells": [
    {
      "cell_type": "code",
      "execution_count": null,
      "metadata": {
        "id": "vk3y6A5KLYCB"
      },
      "outputs": [],
      "source": []
    },
    {
      "cell_type": "code",
      "source": [
        "a = input('Enter the name')\n",
        "b = input('Enter the Profession')\n",
        "print(f'Hello my name is {a} and I am a {b}') ## f (formatting)"
      ],
      "metadata": {
        "colab": {
          "base_uri": "https://localhost:8080/"
        },
        "id": "yytEXEqVLvVS",
        "outputId": "9e4f4b27-cf70-4760-a23a-2dbba6d70296"
      },
      "execution_count": null,
      "outputs": [
        {
          "output_type": "stream",
          "name": "stdout",
          "text": [
            "Enter the nameDhanya\n",
            "Enter the ProfessionData Scientist\n",
            "Hello my name is Dhanya and I am a Data Scientist\n"
          ]
        }
      ]
    },
    {
      "cell_type": "code",
      "source": [
        "a = input('Enter the name')\n",
        "b = input('Enter the Profession')\n",
        "print('Hello my name is {1} and I am a {0}'.format(a, b)) ## f (formatting)"
      ],
      "metadata": {
        "colab": {
          "base_uri": "https://localhost:8080/"
        },
        "id": "GlcvABa3M94l",
        "outputId": "b54cd8d1-4177-47c5-f8d3-f1a2d63c7e10"
      },
      "execution_count": null,
      "outputs": [
        {
          "output_type": "stream",
          "name": "stdout",
          "text": [
            "Enter the nameDhanya\n",
            "Enter the ProfessionData Engineer\n",
            "Hello my name is Data Engineer and I am a Dhanya\n"
          ]
        }
      ]
    },
    {
      "cell_type": "code",
      "source": [
        "print('hello my name is dhanya and I am lsdfkjsdlf;ds')"
      ],
      "metadata": {
        "id": "WrKyPVuyLvmL"
      },
      "execution_count": null,
      "outputs": []
    },
    {
      "cell_type": "code",
      "source": [
        "print('Hello my name is venom and I am a Data Scientist')"
      ],
      "metadata": {
        "id": "0vmWIiVtLvpi"
      },
      "execution_count": null,
      "outputs": []
    },
    {
      "cell_type": "code",
      "source": [
        "print('Hello my name is Imaran and I am a Data Scientist')"
      ],
      "metadata": {
        "id": "GeSshZwwLvtD"
      },
      "execution_count": null,
      "outputs": []
    },
    {
      "cell_type": "code",
      "source": [
        "############################# Functions (Grinder, Mixer) ######################\n",
        "a = 30\n",
        "b = 40\n",
        "c = a * b\n",
        "print(c)"
      ],
      "metadata": {
        "colab": {
          "base_uri": "https://localhost:8080/"
        },
        "id": "u_mX-hnZLuan",
        "outputId": "db79ed4c-bc3d-4fa6-fd39-9df3c1d67181"
      },
      "execution_count": null,
      "outputs": [
        {
          "output_type": "stream",
          "name": "stdout",
          "text": [
            "200\n"
          ]
        }
      ]
    },
    {
      "cell_type": "code",
      "source": [
        "def summ(x, y):\n",
        "  z = x + y\n",
        "  return z"
      ],
      "metadata": {
        "id": "sw_wQyGgNgas"
      },
      "execution_count": null,
      "outputs": []
    },
    {
      "cell_type": "code",
      "source": [
        "summ(10, 20)"
      ],
      "metadata": {
        "colab": {
          "base_uri": "https://localhost:8080/"
        },
        "id": "FF_sMdJXNgdp",
        "outputId": "ff881bee-cd02-4863-be3a-2f500864eece"
      },
      "execution_count": null,
      "outputs": [
        {
          "output_type": "execute_result",
          "data": {
            "text/plain": [
              "30"
            ]
          },
          "metadata": {},
          "execution_count": 8
        }
      ]
    },
    {
      "cell_type": "code",
      "source": [
        "summ(20, 40)"
      ],
      "metadata": {
        "colab": {
          "base_uri": "https://localhost:8080/"
        },
        "id": "Jn4IpSv6Nggv",
        "outputId": "f2c12ffa-ec51-4258-92d4-f800669410de"
      },
      "execution_count": null,
      "outputs": [
        {
          "output_type": "execute_result",
          "data": {
            "text/plain": [
              "60"
            ]
          },
          "metadata": {},
          "execution_count": 9
        }
      ]
    },
    {
      "cell_type": "code",
      "source": [
        "summ(1000, 2038)"
      ],
      "metadata": {
        "colab": {
          "base_uri": "https://localhost:8080/"
        },
        "id": "jPtNds47Ngjv",
        "outputId": "7fb3fefd-ee25-4e82-e22b-f29309efed09"
      },
      "execution_count": null,
      "outputs": [
        {
          "output_type": "execute_result",
          "data": {
            "text/plain": [
              "3038"
            ]
          },
          "metadata": {},
          "execution_count": 10
        }
      ]
    },
    {
      "cell_type": "code",
      "source": [
        "def divide(a, b):\n",
        "  c = a ** b\n",
        "  return c"
      ],
      "metadata": {
        "id": "5-yREyEBNgms"
      },
      "execution_count": null,
      "outputs": []
    },
    {
      "cell_type": "code",
      "source": [
        "divide(10, 20)"
      ],
      "metadata": {
        "colab": {
          "base_uri": "https://localhost:8080/"
        },
        "id": "4QcTF5XoNgpn",
        "outputId": "cf113c17-aae7-4145-bac8-104f49e1c90e"
      },
      "execution_count": null,
      "outputs": [
        {
          "output_type": "execute_result",
          "data": {
            "text/plain": [
              "100000000000000000000"
            ]
          },
          "metadata": {},
          "execution_count": 19
        }
      ]
    },
    {
      "cell_type": "code",
      "source": [
        "divide(100, 20)"
      ],
      "metadata": {
        "colab": {
          "base_uri": "https://localhost:8080/"
        },
        "id": "fXx-k-sHNgsV",
        "outputId": "7b6b4417-ae8b-4b67-b99a-0fdf8ec428d2"
      },
      "execution_count": null,
      "outputs": [
        {
          "output_type": "execute_result",
          "data": {
            "text/plain": [
              "10000000000000000000000000000000000000000"
            ]
          },
          "metadata": {},
          "execution_count": 20
        }
      ]
    },
    {
      "cell_type": "code",
      "source": [
        "a = [1,2,3,4,5,6,8, 10, 20,30]\n",
        "def even_values(x):\n",
        "  div_even = []\n",
        "  for i in x:\n",
        "\n",
        "    if i % 2 == 0:\n",
        "\n",
        "      div_even.append(i)\n",
        "\n",
        "  \n",
        "  return f'This is Even Values {div_even}'\n",
        "\n",
        "\n",
        "a = [1,2,3,4,5,6,8, 10, 20,30]\n",
        "def odd_values(x):\n",
        "  odd_even = []\n",
        "  for i in x:\n",
        "\n",
        "    if i % 2 != 0:\n",
        "\n",
        "      odd_even.append(i)\n",
        "\n",
        "  \n",
        "  return f'This is Odd Values {odd_even}'"
      ],
      "metadata": {
        "id": "5SxY4U4YNgvj"
      },
      "execution_count": null,
      "outputs": []
    },
    {
      "cell_type": "code",
      "source": [
        "even_values([3,4,5])"
      ],
      "metadata": {
        "colab": {
          "base_uri": "https://localhost:8080/",
          "height": 36
        },
        "id": "CkBoYS2JNgyN",
        "outputId": "3475a8c9-106e-4a4b-dbe9-29d275094639"
      },
      "execution_count": null,
      "outputs": [
        {
          "output_type": "execute_result",
          "data": {
            "text/plain": [
              "'This is Even Values [2, 4, 6, 8, 10, 20, 30]'"
            ],
            "application/vnd.google.colaboratory.intrinsic+json": {
              "type": "string"
            }
          },
          "metadata": {},
          "execution_count": 30
        }
      ]
    },
    {
      "cell_type": "code",
      "source": [
        "odd_values(a)"
      ],
      "metadata": {
        "colab": {
          "base_uri": "https://localhost:8080/",
          "height": 36
        },
        "id": "kAJSyo00UV84",
        "outputId": "99915dc3-7d06-4ded-bbdd-84f63ef20d1b"
      },
      "execution_count": null,
      "outputs": [
        {
          "output_type": "execute_result",
          "data": {
            "text/plain": [
              "'This is Odd Values [1, 3, 5]'"
            ],
            "application/vnd.google.colaboratory.intrinsic+json": {
              "type": "string"
            }
          },
          "metadata": {},
          "execution_count": 34
        }
      ]
    },
    {
      "cell_type": "code",
      "source": [
        "even_values([1,2,3,4,5])\n"
      ],
      "metadata": {
        "colab": {
          "base_uri": "https://localhost:8080/"
        },
        "id": "LanGILOLTiWG",
        "outputId": "c76a8d15-9b1a-4187-f2b8-d045fcd1e5ca"
      },
      "execution_count": null,
      "outputs": [
        {
          "output_type": "execute_result",
          "data": {
            "text/plain": [
              "('This is Even Values [2, 4]', 'This is Odd Values [1, 3, 5]')"
            ]
          },
          "metadata": {},
          "execution_count": 28
        }
      ]
    },
    {
      "cell_type": "code",
      "source": [
        "b = [10,20,399, 40948, 48]\n",
        "even_values(b)"
      ],
      "metadata": {
        "colab": {
          "base_uri": "https://localhost:8080/"
        },
        "id": "SoeXGC1wNg1L",
        "outputId": "e61ca8b8-b11b-4858-e93b-3ffc7e97d2bb"
      },
      "execution_count": null,
      "outputs": [
        {
          "output_type": "execute_result",
          "data": {
            "text/plain": [
              "('This is Even Values [10, 20, 40948, 48]', 'This is Odd Values [399]')"
            ]
          },
          "metadata": {},
          "execution_count": 27
        }
      ]
    },
    {
      "cell_type": "code",
      "source": [
        "def add_two_numbers():\n",
        "  \n",
        "  return 'Hello'"
      ],
      "metadata": {
        "id": "BcPuUGqINg3r"
      },
      "execution_count": null,
      "outputs": []
    },
    {
      "cell_type": "code",
      "source": [
        "add_two_numbers()"
      ],
      "metadata": {
        "colab": {
          "base_uri": "https://localhost:8080/",
          "height": 36
        },
        "id": "kiN5Q9VINg6a",
        "outputId": "e00734b0-21d5-4477-e442-4b9a32db0350"
      },
      "execution_count": null,
      "outputs": [
        {
          "output_type": "execute_result",
          "data": {
            "text/plain": [
              "'Hello'"
            ],
            "application/vnd.google.colaboratory.intrinsic+json": {
              "type": "string"
            }
          },
          "metadata": {},
          "execution_count": 41
        }
      ]
    },
    {
      "cell_type": "code",
      "source": [
        "# Write a program to create function calculation() such that it can accept two variables and \n",
        "# calculate addition and subtraction. \n",
        "# Also, it must return both addition and subtraction in a single return call."
      ],
      "metadata": {
        "id": "-Y6rU-0lNg9q"
      },
      "execution_count": null,
      "outputs": []
    },
    {
      "cell_type": "code",
      "source": [
        "def calculation():\n",
        "    a = int(input(\"Enter first value: \"))\n",
        "    b = int(input(\"Enter first value: \"))\n",
        "    return f\"addition is {a+b} subtraction is {a-b}\"\n",
        "\n",
        "calculation()\n"
      ],
      "metadata": {
        "colab": {
          "base_uri": "https://localhost:8080/",
          "height": 72
        },
        "id": "gkA0MMDoLuvn",
        "outputId": "6c01ab83-7c0d-47ed-ff59-8af6b0da67c7"
      },
      "execution_count": null,
      "outputs": [
        {
          "name": "stdout",
          "output_type": "stream",
          "text": [
            "Enter first value: 20\n",
            "Enter first value: 50\n"
          ]
        },
        {
          "output_type": "execute_result",
          "data": {
            "text/plain": [
              "'addition is 70 subtraction is -30'"
            ],
            "application/vnd.google.colaboratory.intrinsic+json": {
              "type": "string"
            }
          },
          "metadata": {},
          "execution_count": 46
        }
      ]
    },
    {
      "cell_type": "code",
      "source": [
        "def calculate():\n",
        "  a = int(input('Enter a number here: '))\n",
        "  b = int(input('Enter a number here: '))\n",
        "  add = []\n",
        "  sub = []\n",
        "  for i in (a,b):\n",
        "\n",
        "    add = a+b\n",
        "\n",
        "    sub = a-b\n",
        "\n",
        "  return f'addition of a number {add} substraction of a number {sub}'\n",
        "  \n",
        "print(calculate())"
      ],
      "metadata": {
        "id": "4b59K13qLu0i"
      },
      "execution_count": null,
      "outputs": []
    },
    {
      "cell_type": "code",
      "source": [
        "def rakesh() :\n",
        "    x =int(input('1st'))\n",
        "    y = int(input('2nd'))\n",
        "    c=x-y\n",
        "    d=x*y\n",
        "    e=x/y\n",
        "    print(c,d,e)\n",
        "    return c,d,e\n",
        "\n",
        "rakesh()\n"
      ],
      "metadata": {
        "colab": {
          "base_uri": "https://localhost:8080/"
        },
        "id": "BE3iRTGbLu22",
        "outputId": "64aab387-6238-4eda-a0c7-0086bffdd4a3"
      },
      "execution_count": null,
      "outputs": [
        {
          "output_type": "stream",
          "name": "stdout",
          "text": [
            "1st2\n",
            "2nd5\n",
            "-3 10 0.4\n"
          ]
        },
        {
          "output_type": "execute_result",
          "data": {
            "text/plain": [
              "(-3, 10, 0.4)"
            ]
          },
          "metadata": {},
          "execution_count": 50
        }
      ]
    },
    {
      "cell_type": "code",
      "source": [
        "#### *args  ( Non - Keyword Argument)\n",
        "###  ** kwargs  ( Keyword Argument)"
      ],
      "metadata": {
        "id": "u73b558aLtdF"
      },
      "execution_count": null,
      "outputs": []
    },
    {
      "cell_type": "code",
      "source": [
        "def uttam(*args):\n",
        "  for i in args:\n",
        "    print(i)"
      ],
      "metadata": {
        "id": "srMAC3f2LtgJ"
      },
      "execution_count": null,
      "outputs": []
    },
    {
      "cell_type": "code",
      "source": [
        "uttam('Hello', 'Uttam', 'Grade', 'Dhanya', 'Kumar', 'Mayur', 'Gaurav', 'spidy', 10)"
      ],
      "metadata": {
        "colab": {
          "base_uri": "https://localhost:8080/"
        },
        "id": "tb1oZAcXLtlU",
        "outputId": "f66caf4d-18a5-4868-e20b-944881770344"
      },
      "execution_count": null,
      "outputs": [
        {
          "output_type": "stream",
          "name": "stdout",
          "text": [
            "Hello\n",
            "Uttam\n",
            "Grade\n",
            "Dhanya\n",
            "Kumar\n",
            "Mayur\n",
            "Gaurav\n",
            "spidy\n",
            "10\n"
          ]
        }
      ]
    },
    {
      "cell_type": "code",
      "source": [
        "def dhanya(a, b):\n",
        "  return a + b"
      ],
      "metadata": {
        "id": "tGbbMmHTLtoL"
      },
      "execution_count": null,
      "outputs": []
    },
    {
      "cell_type": "code",
      "source": [
        "def dhanya(*args):\n",
        "  return args "
      ],
      "metadata": {
        "id": "WcIF4ljKLtq4"
      },
      "execution_count": null,
      "outputs": []
    },
    {
      "cell_type": "code",
      "source": [
        "dhanya('dhaya', 'kajal', 'Uttal')"
      ],
      "metadata": {
        "colab": {
          "base_uri": "https://localhost:8080/"
        },
        "id": "PKo00BI4Ltxu",
        "outputId": "e7f4780a-5896-4b3e-a9de-1863d07a0ea0"
      },
      "execution_count": null,
      "outputs": [
        {
          "output_type": "execute_result",
          "data": {
            "text/plain": [
              "('dhaya', 'kajal', 'Uttal')"
            ]
          },
          "metadata": {},
          "execution_count": 65
        }
      ]
    },
    {
      "cell_type": "code",
      "source": [
        "# def func(a, *args):\n",
        "#   print('First a', a)\n",
        "#   for i in args:\n",
        "#     print(i)"
      ],
      "metadata": {
        "id": "-ETIuUSULt1I"
      },
      "execution_count": null,
      "outputs": []
    },
    {
      "cell_type": "code",
      "source": [
        "def dhanya(**kwargs):\n",
        "  for i, j in kwargs.items():\n",
        "    print('Key: and Values', i,'--> ',  j)\n",
        "    "
      ],
      "metadata": {
        "id": "sXuQH16Vfls2"
      },
      "execution_count": null,
      "outputs": []
    },
    {
      "cell_type": "code",
      "source": [
        "dhanya(a = 'Uttam', b = 'Dhanya', c = 'Gaurav', d = 'rkaesh')"
      ],
      "metadata": {
        "colab": {
          "base_uri": "https://localhost:8080/"
        },
        "id": "umoja-pIflx4",
        "outputId": "649a9bf1-07fc-4d4d-a7ad-3611221094b4"
      },
      "execution_count": null,
      "outputs": [
        {
          "output_type": "stream",
          "name": "stdout",
          "text": [
            "Key: and Values a -->  Uttam\n",
            "Key: and Values b -->  Dhanya\n",
            "Key: and Values c -->  Gaurav\n",
            "Key: and Values d -->  rkaesh\n"
          ]
        }
      ]
    },
    {
      "cell_type": "code",
      "source": [
        "def dhanya(*args, **kwargs):\n",
        "  for i, j in kwargs.items():\n",
        "    print('Key: and Values', i,'--> ',  j)"
      ],
      "metadata": {
        "id": "rfbR9xe6fl1q"
      },
      "execution_count": null,
      "outputs": []
    },
    {
      "cell_type": "code",
      "source": [],
      "metadata": {
        "id": "hP8uURVFfl6j"
      },
      "execution_count": null,
      "outputs": []
    },
    {
      "cell_type": "code",
      "source": [],
      "metadata": {
        "id": "ph6vgezWfmD8"
      },
      "execution_count": null,
      "outputs": []
    }
  ]
}