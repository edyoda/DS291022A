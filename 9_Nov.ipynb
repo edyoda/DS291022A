{
  "nbformat": 4,
  "nbformat_minor": 0,
  "metadata": {
    "colab": {
      "provenance": [],
      "collapsed_sections": []
    },
    "kernelspec": {
      "name": "python3",
      "display_name": "Python 3"
    },
    "language_info": {
      "name": "python"
    }
  },
  "cells": [
    {
      "cell_type": "code",
      "execution_count": 19,
      "metadata": {
        "id": "FPjnr9Yr1YUR"
      },
      "outputs": [],
      "source": [
        "############################### Topics to Cover today #######################################\n",
        "## Condional Statements \n",
        "## For loops"
      ]
    },
    {
      "cell_type": "code",
      "source": [
        "## Condional Statements ( some condition ) work on a boolean values ( I am checking something / some no.)"
      ],
      "metadata": {
        "id": "VMdmy2951h7g"
      },
      "execution_count": 20,
      "outputs": []
    },
    {
      "cell_type": "code",
      "source": [
        "x = 10\n",
        "x > 7 ## condition"
      ],
      "metadata": {
        "colab": {
          "base_uri": "https://localhost:8080/"
        },
        "id": "Zmmd4CF01h-F",
        "outputId": "2df33f41-92a6-4c84-ee08-62ac67caf1f3"
      },
      "execution_count": 21,
      "outputs": [
        {
          "output_type": "execute_result",
          "data": {
            "text/plain": [
              "True"
            ]
          },
          "metadata": {},
          "execution_count": 21
        }
      ]
    },
    {
      "cell_type": "code",
      "source": [
        "x < 20"
      ],
      "metadata": {
        "colab": {
          "base_uri": "https://localhost:8080/"
        },
        "id": "hoNdlzQq1iBM",
        "outputId": "b615ba05-cd9b-42c7-ddcf-1298cbf214f7"
      },
      "execution_count": 22,
      "outputs": [
        {
          "output_type": "execute_result",
          "data": {
            "text/plain": [
              "True"
            ]
          },
          "metadata": {},
          "execution_count": 22
        }
      ]
    },
    {
      "cell_type": "code",
      "source": [
        "x = 20\n",
        "\n",
        "if x > 10:\n",
        "  print('Uttam')"
      ],
      "metadata": {
        "colab": {
          "base_uri": "https://localhost:8080/"
        },
        "id": "3u5Zx9wU1iEB",
        "outputId": "64153e94-292e-46a2-d076-7e026ea9f548"
      },
      "execution_count": 23,
      "outputs": [
        {
          "output_type": "stream",
          "name": "stdout",
          "text": [
            "Uttam\n"
          ]
        }
      ]
    },
    {
      "cell_type": "code",
      "source": [
        "if x == 30:\n",
        "  print('Uttam')\n",
        "else:\n",
        "  print('Dhanya')"
      ],
      "metadata": {
        "colab": {
          "base_uri": "https://localhost:8080/"
        },
        "id": "GkbKtLcX1iGr",
        "outputId": "36faa666-bff1-4a42-bb12-dd795aa82c05"
      },
      "execution_count": 24,
      "outputs": [
        {
          "output_type": "stream",
          "name": "stdout",
          "text": [
            "Dhanya\n"
          ]
        }
      ]
    },
    {
      "cell_type": "code",
      "source": [
        "a = 'Uttam'\n",
        "\n",
        "if a == 'uttam':\n",
        "  print('Yes my name is uttam')\n",
        "\n",
        "else:\n",
        "  print('No you are not uttam')"
      ],
      "metadata": {
        "colab": {
          "base_uri": "https://localhost:8080/"
        },
        "id": "xg9TBMl21iJ1",
        "outputId": "b8d5acd0-0c89-4b60-e2d0-dbac2d4abebf"
      },
      "execution_count": 25,
      "outputs": [
        {
          "output_type": "stream",
          "name": "stdout",
          "text": [
            "No you are not uttam\n"
          ]
        }
      ]
    },
    {
      "cell_type": "code",
      "source": [
        "m = 10\n",
        "\n",
        "if m / 2 == 5:\n",
        "  print('Yes divisible')\n",
        "  print('Uttam')\n",
        "\n",
        "else:\n",
        "  print('Not divisible')\n"
      ],
      "metadata": {
        "colab": {
          "base_uri": "https://localhost:8080/"
        },
        "id": "jTFWGTgg1iMv",
        "outputId": "40752937-a021-4772-fb5a-bc62d6a7aed5"
      },
      "execution_count": 26,
      "outputs": [
        {
          "output_type": "stream",
          "name": "stdout",
          "text": [
            "Yes divisible\n",
            "Uttam\n"
          ]
        }
      ]
    },
    {
      "cell_type": "code",
      "source": [
        "10/2"
      ],
      "metadata": {
        "colab": {
          "base_uri": "https://localhost:8080/"
        },
        "id": "PRjffhWK1iPp",
        "outputId": "c54da424-e740-4031-df75-bffc0a0ba615"
      },
      "execution_count": 27,
      "outputs": [
        {
          "output_type": "execute_result",
          "data": {
            "text/plain": [
              "5.0"
            ]
          },
          "metadata": {},
          "execution_count": 27
        }
      ]
    },
    {
      "cell_type": "code",
      "source": [
        "5.0 == 5"
      ],
      "metadata": {
        "colab": {
          "base_uri": "https://localhost:8080/"
        },
        "id": "FDh2ispA1iSh",
        "outputId": "9ea21bb7-0e7c-45a2-fd87-3213aeaa5742"
      },
      "execution_count": 28,
      "outputs": [
        {
          "output_type": "execute_result",
          "data": {
            "text/plain": [
              "True"
            ]
          },
          "metadata": {},
          "execution_count": 28
        }
      ]
    },
    {
      "cell_type": "code",
      "source": [
        "################### LOOPS ########################\n",
        "\n",
        "## WHILE LOOP\n",
        "## FOR LOOP"
      ],
      "metadata": {
        "id": "QkjXpoJM1iVg"
      },
      "execution_count": 28,
      "outputs": []
    },
    {
      "cell_type": "code",
      "source": [
        "a = [1,2,3,4,5, 6,7,8,9, 10]\n",
        "\n",
        "for j in a:\n",
        "\n",
        "  print(j) "
      ],
      "metadata": {
        "colab": {
          "base_uri": "https://localhost:8080/"
        },
        "id": "IDfBL3y28D2T",
        "outputId": "8ed4380b-feda-4ae4-f119-949e47d53556"
      },
      "execution_count": 31,
      "outputs": [
        {
          "output_type": "stream",
          "name": "stdout",
          "text": [
            "1\n",
            "2\n",
            "3\n",
            "4\n",
            "5\n",
            "6\n",
            "7\n",
            "8\n",
            "9\n",
            "10\n"
          ]
        }
      ]
    },
    {
      "cell_type": "code",
      "source": [],
      "metadata": {
        "id": "hXcny3CS8D5W"
      },
      "execution_count": 28,
      "outputs": []
    },
    {
      "cell_type": "code",
      "source": [
        "b = ['Uttam', 'Dhanya', 1,2,3,4,5, 23.4]\n",
        "\n",
        "for m in b:\n",
        "  print('-=----->', m)"
      ],
      "metadata": {
        "colab": {
          "base_uri": "https://localhost:8080/"
        },
        "id": "4S0IXDmU8D89",
        "outputId": "4d6387ee-2211-43cb-8782-3647e0a04aca"
      },
      "execution_count": 33,
      "outputs": [
        {
          "output_type": "stream",
          "name": "stdout",
          "text": [
            "-=-----> Uttam\n",
            "-=-----> Dhanya\n",
            "-=-----> 1\n",
            "-=-----> 2\n",
            "-=-----> 3\n",
            "-=-----> 4\n",
            "-=-----> 5\n",
            "-=-----> 23.4\n"
          ]
        }
      ]
    },
    {
      "cell_type": "code",
      "source": [
        "################ Nested if statement ###################\n",
        "a = 10\n",
        "\n",
        "if a / 3 != 0:\n",
        "  if a == 1:\n",
        "    print('you are using nested if condition')\n",
        "\n",
        "    \n",
        "\n"
      ],
      "metadata": {
        "id": "GryG6-LG8EB3"
      },
      "execution_count": 28,
      "outputs": []
    },
    {
      "cell_type": "code",
      "source": [
        "a = 10\n",
        "\n",
        "if a / 3 != 0:\n",
        "  if a == 10:\n",
        "      print('you are using nested if condition')\n",
        "\n",
        "  else:\n",
        "    print('Wroing user')\n",
        "\n",
        "else:\n",
        "    print('Nested if condtion')\n"
      ],
      "metadata": {
        "colab": {
          "base_uri": "https://localhost:8080/"
        },
        "id": "j0Im6EH38EGd",
        "outputId": "b2b6a129-3148-4141-a8f0-869392cbe5cc"
      },
      "execution_count": 36,
      "outputs": [
        {
          "output_type": "stream",
          "name": "stdout",
          "text": [
            "you are using nested if condition\n"
          ]
        }
      ]
    },
    {
      "cell_type": "code",
      "source": [
        "10 /3"
      ],
      "metadata": {
        "colab": {
          "base_uri": "https://localhost:8080/"
        },
        "id": "d_uI_BKx8EIn",
        "outputId": "96bf33e1-4bf3-4dcf-c34c-d3061aaca70c"
      },
      "execution_count": 35,
      "outputs": [
        {
          "output_type": "execute_result",
          "data": {
            "text/plain": [
              "3.3333333333333335"
            ]
          },
          "metadata": {},
          "execution_count": 35
        }
      ]
    },
    {
      "cell_type": "code",
      "source": [],
      "metadata": {
        "id": "tkLncNaY8EK9"
      },
      "execution_count": 28,
      "outputs": []
    },
    {
      "cell_type": "code",
      "source": [],
      "metadata": {
        "id": "ervDF4JH8ENh"
      },
      "execution_count": 28,
      "outputs": []
    },
    {
      "cell_type": "code",
      "source": [],
      "metadata": {
        "id": "D7vYLWtJ8EQI"
      },
      "execution_count": 28,
      "outputs": []
    },
    {
      "cell_type": "code",
      "source": [],
      "metadata": {
        "id": "7h2eNULF8ESW"
      },
      "execution_count": 28,
      "outputs": []
    },
    {
      "cell_type": "code",
      "source": [],
      "metadata": {
        "id": "9obxtWbK8EUq"
      },
      "execution_count": 28,
      "outputs": []
    },
    {
      "cell_type": "code",
      "source": [],
      "metadata": {
        "id": "fX8b3uBJ8EW1"
      },
      "execution_count": 28,
      "outputs": []
    },
    {
      "cell_type": "code",
      "source": [],
      "metadata": {
        "id": "iz56SE1j8EaO"
      },
      "execution_count": 28,
      "outputs": []
    },
    {
      "cell_type": "code",
      "source": [],
      "metadata": {
        "id": "2yZKyMMH1iYI"
      },
      "execution_count": 28,
      "outputs": []
    },
    {
      "cell_type": "code",
      "source": [],
      "metadata": {
        "id": "YQsNeI4y1ia0"
      },
      "execution_count": 28,
      "outputs": []
    }
  ]
}