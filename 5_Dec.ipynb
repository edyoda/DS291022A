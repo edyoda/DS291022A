{
  "nbformat": 4,
  "nbformat_minor": 0,
  "metadata": {
    "colab": {
      "provenance": []
    },
    "kernelspec": {
      "name": "python3",
      "display_name": "Python 3"
    },
    "language_info": {
      "name": "python"
    }
  },
  "cells": [
    {
      "cell_type": "code",
      "execution_count": null,
      "metadata": {
        "id": "Kn0Zj75Wnm1K"
      },
      "outputs": [],
      "source": [
        "## Oops ### ( object oriented Programming Language)\n",
        "# blueprint(Naksha) --- 10 differet bulding  ( library/multiple functions )\n",
        "\n",
        "# Class ###\n",
        "# A class is an constructor of an object.\n",
        "# class is a blueprint for the object.\n"
      ]
    },
    {
      "cell_type": "code",
      "source": [
        "class myclass:\n",
        "  x = 5\n",
        "  y = 10"
      ],
      "metadata": {
        "id": "9enMJ2n6thDF"
      },
      "execution_count": null,
      "outputs": []
    },
    {
      "cell_type": "code",
      "source": [
        "p1 = myclass() # it is my object\n",
        "\n",
        "print(myclass.x)\n",
        "print(p1.y)\n",
        "print(myclass.y)\n"
      ],
      "metadata": {
        "colab": {
          "base_uri": "https://localhost:8080/"
        },
        "id": "w_PX2g0IthFz",
        "outputId": "a0564b38-3f97-4b5c-9108-ed897a057dcc"
      },
      "execution_count": null,
      "outputs": [
        {
          "output_type": "stream",
          "name": "stdout",
          "text": [
            "5\n",
            "10\n",
            "10\n"
          ]
        }
      ]
    },
    {
      "cell_type": "code",
      "source": [
        "x = myclass.x"
      ],
      "metadata": {
        "id": "2tDnCykF0j9P"
      },
      "execution_count": null,
      "outputs": []
    },
    {
      "cell_type": "code",
      "source": [
        "'uttam-grade'.split('-')"
      ],
      "metadata": {
        "colab": {
          "base_uri": "https://localhost:8080/"
        },
        "id": "oWSto2xethIh",
        "outputId": "46c05007-9252-4b24-e601-c504fbd8e718"
      },
      "execution_count": null,
      "outputs": [
        {
          "output_type": "execute_result",
          "data": {
            "text/plain": [
              "['uttam', 'grade']"
            ]
          },
          "metadata": {},
          "execution_count": 150
        }
      ]
    },
    {
      "cell_type": "code",
      "source": [],
      "metadata": {
        "id": "rAnkiWSJthLL"
      },
      "execution_count": null,
      "outputs": []
    },
    {
      "cell_type": "code",
      "source": [],
      "metadata": {
        "id": "b2eCWjshthPM"
      },
      "execution_count": null,
      "outputs": []
    },
    {
      "cell_type": "code",
      "source": [
        "m = [[1,2], [3,4],[5,6],[7,8]]\n"
      ],
      "metadata": {
        "id": "RHsQp7gtnnik"
      },
      "execution_count": null,
      "outputs": []
    },
    {
      "cell_type": "code",
      "source": [
        "[[m[j][i] for j in range(len(m))] for i in range(len(m[0]))]"
      ],
      "metadata": {
        "colab": {
          "base_uri": "https://localhost:8080/"
        },
        "id": "yZVHtis5nnlT",
        "outputId": "9bf05c77-2c34-481e-da4c-d99eb8fa987a"
      },
      "execution_count": null,
      "outputs": [
        {
          "output_type": "execute_result",
          "data": {
            "text/plain": [
              "[[1, 3, 5, 7], [2, 4, 6, 8]]"
            ]
          },
          "metadata": {},
          "execution_count": 152
        }
      ]
    },
    {
      "cell_type": "code",
      "source": [
        "X = [[1,2],[3,4],[5,6],[7,8]]\n",
        "\n",
        "result = [[0,0,0,0],[0,0,0,0]]\n",
        "\n",
        "for i in range(len(X)):\n",
        "   for j in range(len(X[0])):\n",
        "       result[j][i] = X[i][j]\n",
        "\n",
        "for r in result:\n",
        "   print(r)\n"
      ],
      "metadata": {
        "colab": {
          "base_uri": "https://localhost:8080/"
        },
        "id": "EXhk5FQjnnnz",
        "outputId": "42700154-1b54-4eeb-b9f3-e424d4a731f0"
      },
      "execution_count": null,
      "outputs": [
        {
          "output_type": "stream",
          "name": "stdout",
          "text": [
            "[1, 3, 5, 7]\n",
            "[2, 4, 6, 8]\n"
          ]
        }
      ]
    },
    {
      "cell_type": "code",
      "source": [],
      "metadata": {
        "id": "2bKklaEqnnqT"
      },
      "execution_count": null,
      "outputs": []
    },
    {
      "cell_type": "code",
      "source": [
        "## __init__ (constructor) builder ## it will be execute automatically whenever the class called."
      ],
      "metadata": {
        "id": "0qXRl_pXnntD"
      },
      "execution_count": null,
      "outputs": []
    },
    {
      "cell_type": "code",
      "source": [
        "class person:\n",
        "  def __init__(self, name, age, degree):\n",
        "    self.name = name\n",
        "    self.age = age\n",
        "    self.degree = degree\n",
        "\n",
        "  def value(abc):\n",
        "    print('Hello my name is Uttam', abc.age)\n",
        "\n"
      ],
      "metadata": {
        "id": "iZtWtufBnnvq"
      },
      "execution_count": null,
      "outputs": []
    },
    {
      "cell_type": "code",
      "source": [
        "p1 = person('Uttam', 56, 'M.S') # object"
      ],
      "metadata": {
        "id": "e2GBpK4BnnyT"
      },
      "execution_count": null,
      "outputs": []
    },
    {
      "cell_type": "code",
      "source": [
        "p2 = person('Dhanya', 65, 'B.Tech') # object"
      ],
      "metadata": {
        "id": "3e4DRBSM3PNk"
      },
      "execution_count": null,
      "outputs": []
    },
    {
      "cell_type": "code",
      "source": [
        "p3 = person('Rishi', 5, 'M.Tech') # object"
      ],
      "metadata": {
        "id": "MUupeZyK3Zxz"
      },
      "execution_count": null,
      "outputs": []
    },
    {
      "cell_type": "code",
      "source": [
        "p1.value()"
      ],
      "metadata": {
        "colab": {
          "base_uri": "https://localhost:8080/"
        },
        "id": "jM6qUk6v3Tfc",
        "outputId": "5c03403f-dabb-4484-d5f9-6742330a1fa4"
      },
      "execution_count": null,
      "outputs": [
        {
          "output_type": "stream",
          "name": "stdout",
          "text": [
            "Hello my name is Uttam 56\n"
          ]
        }
      ]
    },
    {
      "cell_type": "code",
      "source": [
        "p1.name"
      ],
      "metadata": {
        "colab": {
          "base_uri": "https://localhost:8080/",
          "height": 36
        },
        "id": "vyMjhAa4nn01",
        "outputId": "d5106187-7aeb-4bf2-f802-cc2d8555188f"
      },
      "execution_count": null,
      "outputs": [
        {
          "output_type": "execute_result",
          "data": {
            "text/plain": [
              "'Uttam'"
            ],
            "application/vnd.google.colaboratory.intrinsic+json": {
              "type": "string"
            }
          },
          "metadata": {},
          "execution_count": 160
        }
      ]
    },
    {
      "cell_type": "code",
      "source": [
        "p1.age"
      ],
      "metadata": {
        "colab": {
          "base_uri": "https://localhost:8080/"
        },
        "id": "CZKv4p2Xnn35",
        "outputId": "100932d9-bda1-4ffe-8372-2cf0df77d151"
      },
      "execution_count": null,
      "outputs": [
        {
          "output_type": "execute_result",
          "data": {
            "text/plain": [
              "56"
            ]
          },
          "metadata": {},
          "execution_count": 161
        }
      ]
    },
    {
      "cell_type": "code",
      "source": [
        "p1.age = 20"
      ],
      "metadata": {
        "id": "nh1359Go6Ssi"
      },
      "execution_count": null,
      "outputs": []
    },
    {
      "cell_type": "code",
      "source": [],
      "metadata": {
        "id": "d2OnCTSv6YcT"
      },
      "execution_count": null,
      "outputs": []
    },
    {
      "cell_type": "code",
      "source": [
        "p1.degree"
      ],
      "metadata": {
        "colab": {
          "base_uri": "https://localhost:8080/",
          "height": 36
        },
        "id": "ZvFsNmspnn5z",
        "outputId": "a9610163-99a8-4295-e742-37fbe7d8d92f"
      },
      "execution_count": null,
      "outputs": [
        {
          "output_type": "execute_result",
          "data": {
            "text/plain": [
              "'M.S'"
            ],
            "application/vnd.google.colaboratory.intrinsic+json": {
              "type": "string"
            }
          },
          "metadata": {},
          "execution_count": 163
        }
      ]
    },
    {
      "cell_type": "code",
      "source": [],
      "metadata": {
        "id": "e2rO62OM26La"
      },
      "execution_count": null,
      "outputs": []
    },
    {
      "cell_type": "code",
      "source": [],
      "metadata": {
        "id": "AD4utGe726Ok"
      },
      "execution_count": null,
      "outputs": []
    },
    {
      "cell_type": "code",
      "source": [],
      "metadata": {
        "id": "UrBJqmav26Ra"
      },
      "execution_count": null,
      "outputs": []
    },
    {
      "cell_type": "code",
      "source": [
        "p2.age"
      ],
      "metadata": {
        "colab": {
          "base_uri": "https://localhost:8080/"
        },
        "id": "XR1qGToc26UC",
        "outputId": "652de5cb-178b-49fe-89d9-692de0ea6d3f"
      },
      "execution_count": null,
      "outputs": [
        {
          "output_type": "execute_result",
          "data": {
            "text/plain": [
              "65"
            ]
          },
          "metadata": {},
          "execution_count": 164
        }
      ]
    },
    {
      "cell_type": "code",
      "source": [
        "class car: # cannot be empty\n",
        "  pass"
      ],
      "metadata": {
        "id": "c3oNsr5Q26Wq"
      },
      "execution_count": null,
      "outputs": []
    },
    {
      "cell_type": "code",
      "source": [
        "c1 = car()\n"
      ],
      "metadata": {
        "id": "_6jPbEuJ26YW"
      },
      "execution_count": null,
      "outputs": []
    },
    {
      "cell_type": "code",
      "source": [
        "print(c1)"
      ],
      "metadata": {
        "colab": {
          "base_uri": "https://localhost:8080/"
        },
        "id": "Md7YefVynn8C",
        "outputId": "ebb98952-9df0-4bb7-ed7c-3d1cc1aba0a2"
      },
      "execution_count": null,
      "outputs": [
        {
          "output_type": "stream",
          "name": "stdout",
          "text": [
            "<__main__.car object at 0x7f5e9b4d8460>\n"
          ]
        }
      ]
    },
    {
      "cell_type": "code",
      "source": [
        "class student:\n",
        "  def __init__(self, name, rollno, age):\n",
        "    self.name = name\n",
        "    self.rollno = rollno\n",
        "    self.age = age\n",
        "\n",
        "  def student_details(self):\n",
        "    print('student name is - ',self.name)\n",
        "    print('student rollno is - ',self.rollno)\n",
        "    print('studen age is - ',self.age)\n",
        "\n",
        "x = student('mayur',50,27)\n"
      ],
      "metadata": {
        "id": "wciv_i-hnn-B"
      },
      "execution_count": null,
      "outputs": []
    },
    {
      "cell_type": "code",
      "source": [],
      "metadata": {
        "id": "K2csGLzL-vQH"
      },
      "execution_count": null,
      "outputs": []
    },
    {
      "cell_type": "code",
      "source": [],
      "metadata": {
        "id": "U7SLESbN-vTc"
      },
      "execution_count": null,
      "outputs": []
    },
    {
      "cell_type": "code",
      "source": [],
      "metadata": {
        "id": "MNr1DlFQ-vXc"
      },
      "execution_count": null,
      "outputs": []
    },
    {
      "cell_type": "code",
      "source": [],
      "metadata": {
        "id": "fgCOagS2-vdL"
      },
      "execution_count": null,
      "outputs": []
    },
    {
      "cell_type": "code",
      "source": [],
      "metadata": {
        "id": "b6D-0G0s-vgx"
      },
      "execution_count": null,
      "outputs": []
    },
    {
      "cell_type": "code",
      "source": [],
      "metadata": {
        "id": "dYVUG8HO-vjt"
      },
      "execution_count": null,
      "outputs": []
    },
    {
      "cell_type": "code",
      "source": [],
      "metadata": {
        "id": "3uCtUSTv-vm-"
      },
      "execution_count": null,
      "outputs": []
    },
    {
      "cell_type": "code",
      "source": [],
      "metadata": {
        "id": "cY1JQ7M3-vqD"
      },
      "execution_count": null,
      "outputs": []
    }
  ]
}