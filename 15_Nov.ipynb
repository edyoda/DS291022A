{
  "nbformat": 4,
  "nbformat_minor": 0,
  "metadata": {
    "colab": {
      "provenance": []
    },
    "kernelspec": {
      "name": "python3",
      "display_name": "Python 3"
    },
    "language_info": {
      "name": "python"
    }
  },
  "cells": [
    {
      "cell_type": "code",
      "execution_count": null,
      "metadata": {
        "id": "_-bMu41AnRyS"
      },
      "outputs": [],
      "source": [
        "i = 0\n",
        "while i < 10:\n",
        "  print(i)\n",
        "  i += 1"
      ]
    },
    {
      "cell_type": "code",
      "source": [
        "################## \n",
        "## List, list, []\n",
        "## tuple, tuple, () ## Immutalbe \n",
        "## set, set, {}\n",
        "## dictionary , dict, {}, key: values"
      ],
      "metadata": {
        "id": "PPqcIFVcnSwH"
      },
      "execution_count": null,
      "outputs": []
    },
    {
      "cell_type": "code",
      "source": [
        "t = (1,2,3,4,5)\n",
        "t[0]"
      ],
      "metadata": {
        "colab": {
          "base_uri": "https://localhost:8080/"
        },
        "id": "TK3yAn3usJ6v",
        "outputId": "a9999649-bd95-4c81-d6c1-3c61f722c1fc"
      },
      "execution_count": null,
      "outputs": [
        {
          "output_type": "execute_result",
          "data": {
            "text/plain": [
              "1"
            ]
          },
          "metadata": {},
          "execution_count": 15
        }
      ]
    },
    {
      "cell_type": "code",
      "source": [
        "## set\n",
        "s = {1,2,3,4,1,2} # unique\n",
        "s"
      ],
      "metadata": {
        "colab": {
          "base_uri": "https://localhost:8080/"
        },
        "id": "tB76bzbTqsal",
        "outputId": "5c76ab72-8020-4c29-a189-1761cb8643a1"
      },
      "execution_count": null,
      "outputs": [
        {
          "output_type": "execute_result",
          "data": {
            "text/plain": [
              "{1, 2, 3, 4}"
            ]
          },
          "metadata": {},
          "execution_count": 14
        }
      ]
    },
    {
      "cell_type": "code",
      "source": [
        "[1,2,3,4, 'Uttam']"
      ],
      "metadata": {
        "id": "yALDpPncnSzH"
      },
      "execution_count": null,
      "outputs": []
    },
    {
      "cell_type": "code",
      "source": [
        "d = {\"Uttam\": [1,2,3,4,5,6], \n",
        " 'Grade': 'Dhanya',\n",
        " 'Rishihka': (10,20,30)}"
      ],
      "metadata": {
        "id": "A8jhoP02nS2e"
      },
      "execution_count": null,
      "outputs": []
    },
    {
      "cell_type": "code",
      "source": [
        "d"
      ],
      "metadata": {
        "colab": {
          "base_uri": "https://localhost:8080/"
        },
        "id": "THVTWr5qnS44",
        "outputId": "8d949578-1f56-4715-d843-11829d83596e"
      },
      "execution_count": null,
      "outputs": [
        {
          "output_type": "execute_result",
          "data": {
            "text/plain": [
              "{'Uttam': [1, 2, 3, 4, 5, 6], 'Grade': 'Dhanya', 'Rishihka': (10, 20, 30)}"
            ]
          },
          "metadata": {},
          "execution_count": 7
        }
      ]
    },
    {
      "cell_type": "code",
      "source": [
        "d['Uttam'] # key"
      ],
      "metadata": {
        "colab": {
          "base_uri": "https://localhost:8080/"
        },
        "id": "lgpez6lAnS7R",
        "outputId": "2e1574c2-812d-4f94-ac12-0d88ed32e9ea"
      },
      "execution_count": null,
      "outputs": [
        {
          "output_type": "execute_result",
          "data": {
            "text/plain": [
              "[1, 2, 3, 4, 5, 6]"
            ]
          },
          "metadata": {},
          "execution_count": 8
        }
      ]
    },
    {
      "cell_type": "code",
      "source": [
        "d['Rishihka']"
      ],
      "metadata": {
        "colab": {
          "base_uri": "https://localhost:8080/"
        },
        "id": "voukUO2ynS-G",
        "outputId": "dd339f12-a7de-48bd-df11-0fa3871dfb6c"
      },
      "execution_count": null,
      "outputs": [
        {
          "output_type": "execute_result",
          "data": {
            "text/plain": [
              "(10, 20, 30)"
            ]
          },
          "metadata": {},
          "execution_count": 10
        }
      ]
    },
    {
      "cell_type": "code",
      "source": [
        "# list-[],slicing and indexing -              mutable\n",
        "# tuple-(),slicing and indexing -             immutable\n",
        "# set-{},not slicing and indexing -           mutable\n",
        "# dict-{key:values},not slicing and indexing -mutable\n"
      ],
      "metadata": {
        "id": "gW7lhE25nTD3"
      },
      "execution_count": null,
      "outputs": []
    },
    {
      "cell_type": "code",
      "source": [
        "d1 = {1: 'Uttam', \n",
        "      2: 'Grade',\n",
        "      \n",
        "      3: 'Arya',\n",
        "      3: 'Dhanya'}"
      ],
      "metadata": {
        "id": "FjTfMIDrnTKo"
      },
      "execution_count": null,
      "outputs": []
    },
    {
      "cell_type": "code",
      "source": [
        "d1"
      ],
      "metadata": {
        "colab": {
          "base_uri": "https://localhost:8080/"
        },
        "id": "nCh3iShPnTNj",
        "outputId": "57b1fcff-3278-4b46-98b3-d6c853cd1ae1"
      },
      "execution_count": null,
      "outputs": [
        {
          "output_type": "execute_result",
          "data": {
            "text/plain": [
              "{1: 'Uttam', 2: 'Grade', 3: 'Dhanya'}"
            ]
          },
          "metadata": {},
          "execution_count": 19
        }
      ]
    },
    {
      "cell_type": "code",
      "source": [
        "d1"
      ],
      "metadata": {
        "colab": {
          "base_uri": "https://localhost:8080/"
        },
        "id": "pGYQixT-nTQb",
        "outputId": "5558c8e1-bba7-4fd8-bd16-e06e7dd58e63"
      },
      "execution_count": null,
      "outputs": [
        {
          "output_type": "execute_result",
          "data": {
            "text/plain": [
              "{1: 'Uttam', 2: 'Grade', 3: 'Dhanya'}"
            ]
          },
          "metadata": {},
          "execution_count": 21
        }
      ]
    },
    {
      "cell_type": "code",
      "source": [
        "d1[5] = 'Abhisek' # APpend"
      ],
      "metadata": {
        "id": "SESFnFMTnTTP"
      },
      "execution_count": null,
      "outputs": []
    },
    {
      "cell_type": "code",
      "source": [
        "d1['Anand'] = [1,2,3,4,5]"
      ],
      "metadata": {
        "id": "SkT1nJKHvGkp"
      },
      "execution_count": null,
      "outputs": []
    },
    {
      "cell_type": "code",
      "source": [
        "d1"
      ],
      "metadata": {
        "colab": {
          "base_uri": "https://localhost:8080/"
        },
        "id": "jfoC0ay9nTWL",
        "outputId": "33addc2f-64af-483f-d358-cdbb9ce4d446"
      },
      "execution_count": null,
      "outputs": [
        {
          "output_type": "execute_result",
          "data": {
            "text/plain": [
              "{1: 'Uttam', 2: 'Grade', 3: 'Dhanya', 5: 'Abhisek', 'Anand': [1, 2, 3, 4, 5]}"
            ]
          },
          "metadata": {},
          "execution_count": 25
        }
      ]
    },
    {
      "cell_type": "code",
      "source": [
        "d1.keys()"
      ],
      "metadata": {
        "colab": {
          "base_uri": "https://localhost:8080/"
        },
        "id": "jkrZv-VbnTZM",
        "outputId": "a500677a-1815-4d96-b314-04455a3e6ddc"
      },
      "execution_count": null,
      "outputs": [
        {
          "output_type": "execute_result",
          "data": {
            "text/plain": [
              "dict_keys([1, 2, 3, 5, 'Anand'])"
            ]
          },
          "metadata": {},
          "execution_count": 26
        }
      ]
    },
    {
      "cell_type": "code",
      "source": [
        "d1.values()"
      ],
      "metadata": {
        "colab": {
          "base_uri": "https://localhost:8080/"
        },
        "id": "GS9nSgFPvXQl",
        "outputId": "ff800eef-07ec-4065-997e-b2c27e7796de"
      },
      "execution_count": null,
      "outputs": [
        {
          "output_type": "execute_result",
          "data": {
            "text/plain": [
              "dict_values(['Uttam', 'Grade', 'Dhanya', 'Abhisek', [1, 2, 3, 4, 5]])"
            ]
          },
          "metadata": {},
          "execution_count": 27
        }
      ]
    },
    {
      "cell_type": "code",
      "source": [
        "d1.items()"
      ],
      "metadata": {
        "colab": {
          "base_uri": "https://localhost:8080/"
        },
        "id": "l3d83sSmvXUe",
        "outputId": "9f0c8477-2b17-431e-d658-78a7ddb361a9"
      },
      "execution_count": null,
      "outputs": [
        {
          "output_type": "execute_result",
          "data": {
            "text/plain": [
              "dict_items([(1, 'Uttam'), (2, 'Grade'), (3, 'Dhanya'), (5, 'Abhisek'), ('Anand', [1, 2, 3, 4, 5])])"
            ]
          },
          "metadata": {},
          "execution_count": 28
        }
      ]
    },
    {
      "cell_type": "code",
      "source": [
        "for i, j in d1.items():\n",
        "  print(i,'--------------->',   j)"
      ],
      "metadata": {
        "colab": {
          "base_uri": "https://localhost:8080/"
        },
        "id": "nE1ErqK8vXZE",
        "outputId": "04afe7b3-aac6-41a0-ca3e-61d5829ffbc6"
      },
      "execution_count": null,
      "outputs": [
        {
          "output_type": "stream",
          "name": "stdout",
          "text": [
            "1 ---------------> Uttam\n",
            "2 ---------------> Grade\n",
            "3 ---------------> Dhanya\n",
            "5 ---------------> Abhisek\n",
            "Anand ---------------> [1, 2, 3, 4, 5]\n"
          ]
        }
      ]
    },
    {
      "cell_type": "code",
      "source": [
        "del d1['Anand']"
      ],
      "metadata": {
        "id": "CVGFMsqcvXdy"
      },
      "execution_count": null,
      "outputs": []
    },
    {
      "cell_type": "code",
      "source": [
        "d1"
      ],
      "metadata": {
        "colab": {
          "base_uri": "https://localhost:8080/"
        },
        "id": "I6TrAkdVvXgw",
        "outputId": "7003548c-b3ad-4e56-c634-5be46936e8d9"
      },
      "execution_count": null,
      "outputs": [
        {
          "output_type": "execute_result",
          "data": {
            "text/plain": [
              "{1: 'Uttam', 2: 'Grade', 3: 'Dhanya', 5: 'Abhisek'}"
            ]
          },
          "metadata": {},
          "execution_count": 33
        }
      ]
    },
    {
      "cell_type": "code",
      "source": [
        "d1.pop(5)"
      ],
      "metadata": {
        "colab": {
          "base_uri": "https://localhost:8080/",
          "height": 36
        },
        "id": "i5L__qk-vXjS",
        "outputId": "a889eda5-f585-42c8-acfa-aed582c943ee"
      },
      "execution_count": null,
      "outputs": [
        {
          "output_type": "execute_result",
          "data": {
            "text/plain": [
              "'Abhisek'"
            ],
            "application/vnd.google.colaboratory.intrinsic+json": {
              "type": "string"
            }
          },
          "metadata": {},
          "execution_count": 36
        }
      ]
    },
    {
      "cell_type": "code",
      "source": [
        "d1"
      ],
      "metadata": {
        "colab": {
          "base_uri": "https://localhost:8080/"
        },
        "id": "HuRkQpRavXmB",
        "outputId": "5b9e9411-783e-40a4-d187-b93ffb65109c"
      },
      "execution_count": null,
      "outputs": [
        {
          "output_type": "execute_result",
          "data": {
            "text/plain": [
              "{2: 'Grade', 3: 'Dhanya'}"
            ]
          },
          "metadata": {},
          "execution_count": 37
        }
      ]
    },
    {
      "cell_type": "code",
      "source": [
        "d2 = {1: \"uttam\",\n",
        "      2:'Sanjay',\n",
        "      3: 'saina',\n",
        "      4: 'arya',\n",
        "      5: 'Diksha'}"
      ],
      "metadata": {
        "id": "5ApnABzVnTdG"
      },
      "execution_count": null,
      "outputs": []
    },
    {
      "cell_type": "code",
      "source": [
        "for i in [1,2,3]:\n",
        "  del d2[i]"
      ],
      "metadata": {
        "id": "ROMveK3Jzrl0"
      },
      "execution_count": null,
      "outputs": []
    },
    {
      "cell_type": "code",
      "source": [
        "d1.clear()"
      ],
      "metadata": {
        "id": "9vIGtsmTzLvP"
      },
      "execution_count": null,
      "outputs": []
    },
    {
      "cell_type": "code",
      "source": [
        "d2"
      ],
      "metadata": {
        "colab": {
          "base_uri": "https://localhost:8080/"
        },
        "id": "WJverJsizLym",
        "outputId": "2bc13db4-5232-4a8f-a124-4ea176f15e98"
      },
      "execution_count": null,
      "outputs": [
        {
          "output_type": "execute_result",
          "data": {
            "text/plain": [
              "{4: 'arya', 5: 'Diksha'}"
            ]
          },
          "metadata": {},
          "execution_count": 52
        }
      ]
    },
    {
      "cell_type": "code",
      "source": [
        "a = 'Hello My Name is uttam'\n",
        "print(a)"
      ],
      "metadata": {
        "colab": {
          "base_uri": "https://localhost:8080/"
        },
        "id": "FrikTT1UzL2X",
        "outputId": "c826e549-5d20-4240-8ed2-89125e1fbe0c"
      },
      "execution_count": null,
      "outputs": [
        {
          "output_type": "stream",
          "name": "stdout",
          "text": [
            "Hello My Name is uttam\n"
          ]
        }
      ]
    },
    {
      "cell_type": "code",
      "source": [
        "b = \"\"\"Hello my name is uttam\n",
        "      and how are you\"\"\"\n",
        "  \n",
        "print(b)"
      ],
      "metadata": {
        "colab": {
          "base_uri": "https://localhost:8080/"
        },
        "id": "Tv1FdEXUzL57",
        "outputId": "5ea5eb47-649d-46d9-90aa-45077d8dba45"
      },
      "execution_count": null,
      "outputs": [
        {
          "output_type": "stream",
          "name": "stdout",
          "text": [
            "Hello my name is uttam\n",
            "      and how are you\n"
          ]
        }
      ]
    },
    {
      "cell_type": "code",
      "source": [
        "a = \"\"\"Hello my name is uttam\n",
        "      and how are you\"\"\""
      ],
      "metadata": {
        "id": "YP_FMgTLzMBx"
      },
      "execution_count": null,
      "outputs": []
    },
    {
      "cell_type": "code",
      "source": [
        "if 'uttam' not in a:\n",
        "  print('You are dhanya')\n",
        "else:\n",
        "  print('Oh You are uttam')"
      ],
      "metadata": {
        "colab": {
          "base_uri": "https://localhost:8080/"
        },
        "id": "rJhETYIhzMEt",
        "outputId": "fa19476c-a115-4468-e393-12e5ed93789e"
      },
      "execution_count": null,
      "outputs": [
        {
          "output_type": "stream",
          "name": "stdout",
          "text": [
            "Oh You are uttam\n"
          ]
        }
      ]
    },
    {
      "cell_type": "code",
      "source": [
        "#How many Object will be formed in the memory after running this line of Python?\n",
        "\n",
        "x = [(1,2,3),{1,1,1,2},\"This Question is Easy Please don't skip it\",3.14]\n",
        "\n"
      ],
      "metadata": {
        "id": "KSXMbckyzMHz"
      },
      "execution_count": null,
      "outputs": []
    },
    {
      "cell_type": "code",
      "source": [
        "a = 'My Name is $ is UttamGrade'\n",
        "a.split()"
      ],
      "metadata": {
        "colab": {
          "base_uri": "https://localhost:8080/"
        },
        "id": "R8WdvOh6zMLF",
        "outputId": "d5945222-7664-46d8-b0c1-b99d1382277e"
      },
      "execution_count": null,
      "outputs": [
        {
          "output_type": "execute_result",
          "data": {
            "text/plain": [
              "['My', 'Name', 'is', '$', 'is', 'UttamGrade']"
            ]
          },
          "metadata": {},
          "execution_count": 73
        }
      ]
    },
    {
      "cell_type": "code",
      "source": [
        "a.split()"
      ],
      "metadata": {
        "colab": {
          "base_uri": "https://localhost:8080/"
        },
        "id": "D6z1EXqSzMNg",
        "outputId": "729446ac-a68a-4a34-fb9d-261358beb006"
      },
      "execution_count": null,
      "outputs": [
        {
          "output_type": "execute_result",
          "data": {
            "text/plain": [
              "['My', 'Name', 'is', '-', 'UttamGrade']"
            ]
          },
          "metadata": {},
          "execution_count": 67
        }
      ]
    },
    {
      "cell_type": "code",
      "source": [
        "a.split('is')"
      ],
      "metadata": {
        "colab": {
          "base_uri": "https://localhost:8080/"
        },
        "id": "uXQbGedizMQQ",
        "outputId": "2fb13149-968e-4dcd-d4d5-a91cf2896258"
      },
      "execution_count": null,
      "outputs": [
        {
          "output_type": "execute_result",
          "data": {
            "text/plain": [
              "['My Name ', ' $ ', ' UttamGrade']"
            ]
          },
          "metadata": {},
          "execution_count": 71
        }
      ]
    },
    {
      "cell_type": "code",
      "source": [
        "a"
      ],
      "metadata": {
        "colab": {
          "base_uri": "https://localhost:8080/",
          "height": 36
        },
        "id": "dEMaxWI6zMUF",
        "outputId": "ad920061-5a7a-4d3d-f872-3d4f406151d7"
      },
      "execution_count": null,
      "outputs": [
        {
          "output_type": "execute_result",
          "data": {
            "text/plain": [
              "'My Name is $ is UttamGrade'"
            ],
            "application/vnd.google.colaboratory.intrinsic+json": {
              "type": "string"
            }
          },
          "metadata": {},
          "execution_count": 74
        }
      ]
    },
    {
      "cell_type": "code",
      "source": [
        "a.upper()"
      ],
      "metadata": {
        "colab": {
          "base_uri": "https://localhost:8080/",
          "height": 36
        },
        "id": "uShZKZ52nTfZ",
        "outputId": "4f648030-5d8f-45d5-97ea-9c60e98e2b3d"
      },
      "execution_count": null,
      "outputs": [
        {
          "output_type": "execute_result",
          "data": {
            "text/plain": [
              "'MY NAME IS $ IS UTTAMGRADE'"
            ],
            "application/vnd.google.colaboratory.intrinsic+json": {
              "type": "string"
            }
          },
          "metadata": {},
          "execution_count": 75
        }
      ]
    },
    {
      "cell_type": "code",
      "source": [
        "a.lower()"
      ],
      "metadata": {
        "colab": {
          "base_uri": "https://localhost:8080/",
          "height": 36
        },
        "id": "ejhnQL7V-DSv",
        "outputId": "be667fe4-441d-4923-f243-69bcba227545"
      },
      "execution_count": null,
      "outputs": [
        {
          "output_type": "execute_result",
          "data": {
            "text/plain": [
              "'my name is $ is uttamgrade'"
            ],
            "application/vnd.google.colaboratory.intrinsic+json": {
              "type": "string"
            }
          },
          "metadata": {},
          "execution_count": 76
        }
      ]
    },
    {
      "cell_type": "code",
      "source": [
        "b = ['UTTAM', 'GRADE', 'dhanya', 'imran', 'machine learning']\n",
        "c = []\n",
        "d = []\n",
        "for i in b:\n",
        "  if i.title():\n",
        "    c.append(i)\n",
        "  else:\n",
        "    d.append(i)"
      ],
      "metadata": {
        "id": "CmK-dBLc-DWm"
      },
      "execution_count": null,
      "outputs": []
    },
    {
      "cell_type": "code",
      "source": [
        "c"
      ],
      "metadata": {
        "colab": {
          "base_uri": "https://localhost:8080/"
        },
        "id": "hxrRJ9o--DaX",
        "outputId": "d4a97be6-39d1-4a3a-cf4b-4abd03ce0739"
      },
      "execution_count": null,
      "outputs": [
        {
          "output_type": "execute_result",
          "data": {
            "text/plain": [
              "['UTTAM', 'GRADE', 'dhanya', 'imran', 'Machine']"
            ]
          },
          "metadata": {},
          "execution_count": 84
        }
      ]
    },
    {
      "cell_type": "code",
      "source": [
        "d"
      ],
      "metadata": {
        "colab": {
          "base_uri": "https://localhost:8080/"
        },
        "id": "QBe_XuwG-Dd_",
        "outputId": "5054932e-ba1d-4501-f4dc-ba970e8cd0a6"
      },
      "execution_count": null,
      "outputs": [
        {
          "output_type": "execute_result",
          "data": {
            "text/plain": [
              "[]"
            ]
          },
          "metadata": {},
          "execution_count": 85
        }
      ]
    },
    {
      "cell_type": "code",
      "source": [
        "b[4].title()"
      ],
      "metadata": {
        "colab": {
          "base_uri": "https://localhost:8080/",
          "height": 36
        },
        "id": "dlcqyPQ_-DgQ",
        "outputId": "41daecc8-c4b4-4e84-87c8-dce0f9d53b81"
      },
      "execution_count": null,
      "outputs": [
        {
          "output_type": "execute_result",
          "data": {
            "text/plain": [
              "'Machine Learning'"
            ],
            "application/vnd.google.colaboratory.intrinsic+json": {
              "type": "string"
            }
          },
          "metadata": {},
          "execution_count": 95
        }
      ]
    },
    {
      "cell_type": "code",
      "source": [
        "b[4].capitalize()"
      ],
      "metadata": {
        "colab": {
          "base_uri": "https://localhost:8080/",
          "height": 36
        },
        "id": "8x4qZY5H-Diz",
        "outputId": "307000f7-7dda-4f2e-a805-a8c5a09f9a5d"
      },
      "execution_count": null,
      "outputs": [
        {
          "output_type": "execute_result",
          "data": {
            "text/plain": [
              "'Machine learning'"
            ],
            "application/vnd.google.colaboratory.intrinsic+json": {
              "type": "string"
            }
          },
          "metadata": {},
          "execution_count": 96
        }
      ]
    },
    {
      "cell_type": "code",
      "source": [],
      "metadata": {
        "id": "PlnRIqdj-Dkz"
      },
      "execution_count": null,
      "outputs": []
    },
    {
      "cell_type": "code",
      "source": [],
      "metadata": {
        "id": "kXLdU1xOnTh_"
      },
      "execution_count": null,
      "outputs": []
    }
  ]
}